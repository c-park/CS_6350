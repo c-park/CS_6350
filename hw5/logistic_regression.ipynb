{
 "cells": [
  {
   "cell_type": "markdown",
   "metadata": {},
   "source": [
    "# Logistic Regression with SGD\n",
    "\n",
    "---"
   ]
  },
  {
   "cell_type": "code",
   "execution_count": 1,
   "metadata": {},
   "outputs": [],
   "source": [
    "import numpy as np\n",
    "import pandas as pd"
   ]
  },
  {
   "cell_type": "code",
   "execution_count": null,
   "metadata": {},
   "outputs": [],
   "source": [
    "from tqdm import tqdm"
   ]
  },
  {
   "cell_type": "code",
   "execution_count": 2,
   "metadata": {},
   "outputs": [],
   "source": [
    "test_data = pd.read_csv('bank-note/test.csv', header=None)\n",
    "train_data = pd.read_csv('bank-note/train.csv', header=None)"
   ]
  },
  {
   "cell_type": "code",
   "execution_count": 3,
   "metadata": {},
   "outputs": [],
   "source": [
    "# first 7 columns are features, last column (Slump) is output\n",
    "columns = ['var', 'skew', 'curt', 'ent', 'label']\n",
    "features = columns[:-1]\n",
    "output = columns[-1]\n",
    "\n",
    "test_data.columns = columns\n",
    "train_data.columns = columns"
   ]
  },
  {
   "cell_type": "code",
   "execution_count": 4,
   "metadata": {},
   "outputs": [
    {
     "data": {
      "text/html": [
       "<div>\n",
       "<style scoped>\n",
       "    .dataframe tbody tr th:only-of-type {\n",
       "        vertical-align: middle;\n",
       "    }\n",
       "\n",
       "    .dataframe tbody tr th {\n",
       "        vertical-align: top;\n",
       "    }\n",
       "\n",
       "    .dataframe thead th {\n",
       "        text-align: right;\n",
       "    }\n",
       "</style>\n",
       "<table border=\"1\" class=\"dataframe\">\n",
       "  <thead>\n",
       "    <tr style=\"text-align: right;\">\n",
       "      <th></th>\n",
       "      <th>var</th>\n",
       "      <th>skew</th>\n",
       "      <th>curt</th>\n",
       "      <th>ent</th>\n",
       "      <th>label</th>\n",
       "    </tr>\n",
       "  </thead>\n",
       "  <tbody>\n",
       "    <tr>\n",
       "      <th>0</th>\n",
       "      <td>3.848100</td>\n",
       "      <td>10.15390</td>\n",
       "      <td>-3.85610</td>\n",
       "      <td>-4.22280</td>\n",
       "      <td>0</td>\n",
       "    </tr>\n",
       "    <tr>\n",
       "      <th>1</th>\n",
       "      <td>4.004700</td>\n",
       "      <td>0.45937</td>\n",
       "      <td>1.36210</td>\n",
       "      <td>1.61810</td>\n",
       "      <td>0</td>\n",
       "    </tr>\n",
       "    <tr>\n",
       "      <th>2</th>\n",
       "      <td>-0.048008</td>\n",
       "      <td>-1.60370</td>\n",
       "      <td>8.47560</td>\n",
       "      <td>0.75558</td>\n",
       "      <td>0</td>\n",
       "    </tr>\n",
       "    <tr>\n",
       "      <th>3</th>\n",
       "      <td>-1.266700</td>\n",
       "      <td>2.81830</td>\n",
       "      <td>-2.42600</td>\n",
       "      <td>-1.88620</td>\n",
       "      <td>1</td>\n",
       "    </tr>\n",
       "    <tr>\n",
       "      <th>4</th>\n",
       "      <td>2.203400</td>\n",
       "      <td>5.99470</td>\n",
       "      <td>0.53009</td>\n",
       "      <td>0.84998</td>\n",
       "      <td>0</td>\n",
       "    </tr>\n",
       "  </tbody>\n",
       "</table>\n",
       "</div>"
      ],
      "text/plain": [
       "        var      skew     curt      ent  label\n",
       "0  3.848100  10.15390 -3.85610 -4.22280      0\n",
       "1  4.004700   0.45937  1.36210  1.61810      0\n",
       "2 -0.048008  -1.60370  8.47560  0.75558      0\n",
       "3 -1.266700   2.81830 -2.42600 -1.88620      1\n",
       "4  2.203400   5.99470  0.53009  0.84998      0"
      ]
     },
     "execution_count": 4,
     "metadata": {},
     "output_type": "execute_result"
    }
   ],
   "source": [
    "train_data.head()"
   ]
  },
  {
   "cell_type": "code",
   "execution_count": null,
   "metadata": {},
   "outputs": [],
   "source": []
  },
  {
   "cell_type": "code",
   "execution_count": 5,
   "metadata": {},
   "outputs": [],
   "source": [
    "train_X = train_data.iloc[:,:-1].values\n",
    "test_X = test_data.iloc[:,:-1].values"
   ]
  },
  {
   "cell_type": "code",
   "execution_count": 6,
   "metadata": {},
   "outputs": [],
   "source": [
    "train_X = np.hstack((train_X, np.ones(train_X.shape[0]).reshape(-1,1)))"
   ]
  },
  {
   "cell_type": "code",
   "execution_count": 7,
   "metadata": {},
   "outputs": [],
   "source": [
    "test_X = np.hstack((test_X, np.ones(test_X.shape[0]).reshape(-1,1)))"
   ]
  },
  {
   "cell_type": "code",
   "execution_count": 8,
   "metadata": {},
   "outputs": [],
   "source": [
    "train_y = train_data.iloc[:,-1].values\n",
    "test_y = test_data.iloc[:,-1].values"
   ]
  },
  {
   "cell_type": "code",
   "execution_count": null,
   "metadata": {},
   "outputs": [],
   "source": []
  },
  {
   "cell_type": "code",
   "execution_count": 9,
   "metadata": {},
   "outputs": [],
   "source": [
    "# Convert labels to {-1,1}\n",
    "train_y = np.array([1 if x else -1 for x in train_y])\n",
    "test_y = np.array([1 if x else -1 for x in test_y])\n",
    "\n",
    "# reshape to 2D array\n",
    "train_y = train_y.reshape(-1,1)\n",
    "test_y = test_y.reshape(-1,1)"
   ]
  },
  {
   "cell_type": "code",
   "execution_count": null,
   "metadata": {},
   "outputs": [],
   "source": []
  },
  {
   "cell_type": "code",
   "execution_count": null,
   "metadata": {},
   "outputs": [],
   "source": []
  },
  {
   "cell_type": "code",
   "execution_count": null,
   "metadata": {},
   "outputs": [],
   "source": []
  },
  {
   "cell_type": "code",
   "execution_count": null,
   "metadata": {},
   "outputs": [],
   "source": []
  },
  {
   "cell_type": "code",
   "execution_count": null,
   "metadata": {},
   "outputs": [],
   "source": []
  },
  {
   "cell_type": "code",
   "execution_count": 61,
   "metadata": {},
   "outputs": [],
   "source": [
    "def sgd_method(df, attrs, target_attr, epsilon, t=0.01):\n",
    "    \"\"\" Stochastic Gradient Descent Method\n",
    "    \n",
    "    Args:\n",
    "        A (mxn numpy array): input array holding m samples with n features\n",
    "        b (mx1 numpy array): output \n",
    "        epsilon (float): tolerance level\n",
    "        t (float): learning rate\n",
    "\n",
    "    Returns:\n",
    "        tree (dict): dictionary structure represented the decision tree\n",
    "  \n",
    "    \"\"\"\n",
    "    \n",
    "    m,n = df.shape\n",
    "    \n",
    "    # convert to numpy array\n",
    "    data = df.to_numpy()\n",
    "    \n",
    "    # Separate to Ax=b where A is input matrix, x is vector of weights, and b the vector of outputs\n",
    "    A = data[:,:-1]\n",
    "    A = np.insert(A,0,np.ones(m), axis=1)\n",
    "    b = data[:,-1] \n",
    "    x = np.zeros(n)\n",
    "\n",
    "    iter=0\n",
    "    max_iter = 100000\n",
    "    cur_val=100\n",
    "    prev_val = np.inf\n",
    "    history = cur_val\n",
    "    \n",
    "    while np.linalg.norm(prev_val-cur_val) > epsilon and iter < max_iter:\n",
    "        iter = iter + 1\n",
    "        prev_val = cur_val\n",
    "        \n",
    "        # shuffle indexes for sampling\n",
    "        indexes = np.random.randint(m, size=m)\n",
    "        \n",
    "        for i in indexes:\n",
    "            # define new point x = x + t d, d = - grad\n",
    "            x = x + t*(b[i] - np.dot(x,A[i]))*A[i]\n",
    "\n",
    "        cur_val= f(A,b,x)\n",
    "        history = np.vstack((history,cur_val))\n",
    "            \n",
    "        \n",
    "        #print('i = {}, tol = {:.4e}, fun_val = {:.4e}'.format(iter, np.linalg.norm(prev_val-cur_val), cur_val))\n",
    "        \n",
    "    print('i = {}, tol = {:.4e}, fun_val = {:.4e}'.format(iter, np.linalg.norm(prev_val-cur_val), cur_val))\n",
    "    return x, history"
   ]
  },
  {
   "cell_type": "code",
   "execution_count": 16,
   "metadata": {},
   "outputs": [],
   "source": [
    "def log_reg(X,y, f, grad, var, epsilon, rate_scheduler):\n",
    "    \n",
    "    m,n = X.shape\n",
    "    \n",
    "    w = np.zeros(n)\n",
    "    \n",
    "    iter=0\n",
    "    max_iter = 100\n",
    "    cur_val=100\n",
    "    prev_val = np.inf\n",
    "    history = cur_val\n",
    "    \n",
    "    while np.linalg.norm(prev_val-cur_val) > epsilon and iter < max_iter:\n",
    "        iter = iter + 1\n",
    "        prev_val = cur_val\n",
    "        \n",
    "        # shuffle indexes for sampling\n",
    "        indexes = np.random.randint(m, size=m)\n",
    "        \n",
    "        for i in indexes:\n",
    "            rate = rate_scheduler(iter)\n",
    "            \n",
    "            X_ = np.repeat(X[i].reshape(1,-1), m, axis=0)\n",
    "            y_ = np.repeat(y[i].reshape(1,-1), m, axis=0)\n",
    "            w = w - rate*grad(X_,y_,w, var)\n",
    "\n",
    "        cur_val= f(X,y,w, var)\n",
    "        history = np.vstack((history,cur_val))\n",
    "            \n",
    "        print('i = {}, tol = {:.4e}, fun_val = {:.4e}'.format(iter, np.linalg.norm(prev_val-cur_val), cur_val))\n",
    "        \n",
    "    print('i = {}, tol = {:.4e}, fun_val = {:.4e}'.format(iter, np.linalg.norm(prev_val-cur_val), cur_val))\n",
    "    return w, history"
   ]
  },
  {
   "cell_type": "code",
   "execution_count": 70,
   "metadata": {},
   "outputs": [
    {
     "data": {
      "text/plain": [
       "array([[-1]])"
      ]
     },
     "execution_count": 70,
     "metadata": {},
     "output_type": "execute_result"
    }
   ],
   "source": [
    "a = y[1].reshape(1,-1)\n",
    "a"
   ]
  },
  {
   "cell_type": "code",
   "execution_count": 73,
   "metadata": {},
   "outputs": [
    {
     "data": {
      "text/plain": [
       "array([[-1],\n",
       "       [-1],\n",
       "       [-1]])"
      ]
     },
     "execution_count": 73,
     "metadata": {},
     "output_type": "execute_result"
    }
   ],
   "source": [
    "b = np.repeat(a,3, axis=0)\n",
    "b"
   ]
  },
  {
   "cell_type": "code",
   "execution_count": null,
   "metadata": {},
   "outputs": [],
   "source": []
  },
  {
   "cell_type": "markdown",
   "metadata": {},
   "source": [
    "$$ p(w_i) = \\frac{1}{sqrt(2 pi v)} exp(-\\frac{1}{2 v} w_{i}^2) $$"
   ]
  },
  {
   "cell_type": "code",
   "execution_count": 11,
   "metadata": {},
   "outputs": [],
   "source": [
    "def param(var):\n",
    "    return lambda x: 1/(np.sqrt(2*np.pi*var))*np.exp(-1.0/(2*var)*x**2)"
   ]
  },
  {
   "cell_type": "code",
   "execution_count": 12,
   "metadata": {},
   "outputs": [],
   "source": [
    "def schedule(g, d):\n",
    "    return lambda t:g / (1 + (g/d)*t)"
   ]
  },
  {
   "cell_type": "code",
   "execution_count": 13,
   "metadata": {},
   "outputs": [],
   "source": [
    "def f(X, y, w, var):\n",
    "    m,n = X.shape\n",
    "    \n",
    "    f1 = 0\n",
    "    for i in range(m):\n",
    "        f1 += np.log(1+np.exp(-y[i]*np.dot(w,X[i])))\n",
    "        \n",
    "    f2 = 1/(2*var)* np.dot(w,w)\n",
    "    res = f1+f2\n",
    "    \n",
    "    return res.item()"
   ]
  },
  {
   "cell_type": "code",
   "execution_count": 14,
   "metadata": {},
   "outputs": [],
   "source": [
    "def grad(X,y,w,var):\n",
    "    m,n = X.shape\n",
    "    \n",
    "    f1 = 0\n",
    "    for i in range(m):\n",
    "        f1 += -y[i]*X[i]*np.exp(-y[i]*np.dot(w,X[i]))/(np.exp(-y[i]*np.dot(w,X[i]))+ 1)\n",
    "        \n",
    "    f2 = 1/(var)* w\n",
    "    res = f1+f2\n",
    "    \n",
    "    return res"
   ]
  },
  {
   "cell_type": "code",
   "execution_count": 15,
   "metadata": {},
   "outputs": [],
   "source": [
    "var_list = [0.01, 0.1, 0.5, 1, 3, 5, 10, 100]"
   ]
  },
  {
   "cell_type": "code",
   "execution_count": 83,
   "metadata": {},
   "outputs": [],
   "source": [
    "X = train_X\n",
    "y = train_y"
   ]
  },
  {
   "cell_type": "code",
   "execution_count": 86,
   "metadata": {},
   "outputs": [],
   "source": [
    "m,n = X.shape\n",
    "    \n",
    "w = np.ones(n)"
   ]
  },
  {
   "cell_type": "code",
   "execution_count": 87,
   "metadata": {},
   "outputs": [],
   "source": [
    "a = f(X,y,w,0.01)"
   ]
  },
  {
   "cell_type": "code",
   "execution_count": 88,
   "metadata": {},
   "outputs": [
    {
     "data": {
      "text/plain": [
       "4331.31223819926"
      ]
     },
     "execution_count": 88,
     "metadata": {},
     "output_type": "execute_result"
    }
   ],
   "source": [
    "a"
   ]
  },
  {
   "cell_type": "code",
   "execution_count": null,
   "metadata": {},
   "outputs": [],
   "source": []
  },
  {
   "cell_type": "code",
   "execution_count": 90,
   "metadata": {},
   "outputs": [
    {
     "data": {
      "text/plain": [
       "array([1670.25593661, 2335.02534609,   36.68461509,    7.58321194,\n",
       "        328.6255436 ])"
      ]
     },
     "execution_count": 90,
     "metadata": {},
     "output_type": "execute_result"
    }
   ],
   "source": [
    "b = grad(X,y,w,0.01)\n",
    "b"
   ]
  },
  {
   "cell_type": "code",
   "execution_count": null,
   "metadata": {},
   "outputs": [],
   "source": []
  },
  {
   "cell_type": "code",
   "execution_count": null,
   "metadata": {},
   "outputs": [],
   "source": []
  },
  {
   "cell_type": "code",
   "execution_count": 18,
   "metadata": {},
   "outputs": [],
   "source": [
    "g = 0.001\n",
    "d = 0.01"
   ]
  },
  {
   "cell_type": "code",
   "execution_count": null,
   "metadata": {},
   "outputs": [],
   "source": []
  },
  {
   "cell_type": "code",
   "execution_count": 19,
   "metadata": {},
   "outputs": [
    {
     "name": "stdout",
     "output_type": "stream",
     "text": [
      "i = 1, tol = 4.0635e+03, fun_val = 4.1635e+03\n",
      "i = 2, tol = 3.8173e+03, fun_val = 3.4621e+02\n",
      "i = 3, tol = 8.9645e+02, fun_val = 1.2427e+03\n",
      "i = 4, tol = 4.3073e+00, fun_val = 1.2470e+03\n",
      "i = 5, tol = 3.3158e+03, fun_val = 4.5628e+03\n",
      "i = 6, tol = 2.9309e+03, fun_val = 1.6319e+03\n",
      "i = 7, tol = 8.8834e+02, fun_val = 2.5202e+03\n",
      "i = 8, tol = 2.4658e+02, fun_val = 2.7668e+03\n",
      "i = 9, tol = 1.4893e+03, fun_val = 1.2775e+03\n",
      "i = 10, tol = 9.0426e+02, fun_val = 3.7325e+02\n",
      "i = 11, tol = 3.0321e+02, fun_val = 6.7646e+02\n",
      "i = 12, tol = 3.8134e+03, fun_val = 4.4899e+03\n",
      "i = 13, tol = 3.0746e+03, fun_val = 1.4153e+03\n",
      "i = 14, tol = 1.1307e+03, fun_val = 2.8463e+02\n",
      "i = 15, tol = 5.6167e+00, fun_val = 2.9025e+02\n",
      "i = 16, tol = 9.7733e+02, fun_val = 1.2676e+03\n",
      "i = 17, tol = 8.2524e+02, fun_val = 4.4234e+02\n",
      "i = 18, tol = 3.0103e+03, fun_val = 3.4526e+03\n",
      "i = 19, tol = 1.9331e+03, fun_val = 1.5195e+03\n",
      "i = 20, tol = 1.0863e+03, fun_val = 4.3319e+02\n",
      "i = 21, tol = 1.4607e+02, fun_val = 5.7926e+02\n",
      "i = 22, tol = 3.3163e+02, fun_val = 2.4764e+02\n",
      "i = 23, tol = 3.7293e+02, fun_val = 6.2056e+02\n",
      "i = 24, tol = 1.9601e+03, fun_val = 2.5807e+03\n",
      "i = 25, tol = 1.1125e+03, fun_val = 1.4681e+03\n",
      "i = 26, tol = 1.2762e+02, fun_val = 1.3405e+03\n",
      "i = 27, tol = 1.1790e+03, fun_val = 2.5195e+03\n",
      "i = 28, tol = 2.0179e+03, fun_val = 5.0161e+02\n",
      "i = 29, tol = 1.7240e+02, fun_val = 3.2921e+02\n",
      "i = 30, tol = 2.4561e+02, fun_val = 5.7482e+02\n",
      "i = 31, tol = 3.1746e+03, fun_val = 3.7495e+03\n",
      "i = 32, tol = 3.5101e+03, fun_val = 2.3934e+02\n",
      "i = 33, tol = 4.0772e+02, fun_val = 6.4705e+02\n",
      "i = 34, tol = 3.1037e+02, fun_val = 3.3668e+02\n",
      "i = 35, tol = 8.9771e+01, fun_val = 2.4691e+02\n",
      "i = 36, tol = 1.3879e+02, fun_val = 3.8570e+02\n",
      "i = 37, tol = 2.4649e+02, fun_val = 6.3219e+02\n",
      "i = 38, tol = 8.5133e+00, fun_val = 6.4070e+02\n",
      "i = 39, tol = 3.3164e+02, fun_val = 3.0907e+02\n",
      "i = 40, tol = 2.5161e+02, fun_val = 5.6068e+02\n",
      "i = 41, tol = 8.4195e+01, fun_val = 4.7649e+02\n",
      "i = 42, tol = 1.6822e+02, fun_val = 3.0826e+02\n",
      "i = 43, tol = 1.2659e+02, fun_val = 4.3485e+02\n",
      "i = 44, tol = 1.4101e+02, fun_val = 2.9385e+02\n",
      "i = 45, tol = 3.2113e+01, fun_val = 2.6173e+02\n",
      "i = 46, tol = 5.5190e+02, fun_val = 8.1363e+02\n",
      "i = 47, tol = 6.0716e+02, fun_val = 2.0647e+02\n",
      "i = 48, tol = 7.0176e+01, fun_val = 2.7664e+02\n",
      "i = 49, tol = 9.0264e+00, fun_val = 2.8567e+02\n",
      "i = 50, tol = 2.1807e+02, fun_val = 5.0374e+02\n",
      "i = 51, tol = 6.4943e+01, fun_val = 4.3879e+02\n",
      "i = 52, tol = 1.9131e+02, fun_val = 2.4748e+02\n",
      "i = 53, tol = 1.2009e+01, fun_val = 2.3547e+02\n",
      "i = 54, tol = 3.7157e+01, fun_val = 2.7263e+02\n",
      "i = 55, tol = 5.2434e+01, fun_val = 2.2020e+02\n",
      "i = 56, tol = 7.7208e+01, fun_val = 2.9740e+02\n",
      "i = 57, tol = 1.4925e+02, fun_val = 4.4666e+02\n",
      "i = 58, tol = 2.4140e+02, fun_val = 2.0525e+02\n",
      "i = 59, tol = 7.8813e+01, fun_val = 2.8407e+02\n",
      "i = 60, tol = 2.5376e+02, fun_val = 5.3783e+02\n",
      "i = 61, tol = 2.2811e+02, fun_val = 3.0972e+02\n",
      "i = 62, tol = 2.4843e+02, fun_val = 5.5815e+02\n",
      "i = 63, tol = 1.9184e+03, fun_val = 2.4766e+03\n",
      "i = 64, tol = 2.2340e+03, fun_val = 2.4262e+02\n",
      "i = 65, tol = 3.3932e+01, fun_val = 2.7655e+02\n",
      "i = 66, tol = 7.2402e+01, fun_val = 2.0415e+02\n",
      "i = 67, tol = 3.5231e+01, fun_val = 2.3938e+02\n",
      "i = 68, tol = 5.4800e+01, fun_val = 2.9418e+02\n",
      "i = 69, tol = 5.8535e+01, fun_val = 2.3564e+02\n",
      "i = 70, tol = 1.2025e+02, fun_val = 3.5589e+02\n",
      "i = 71, tol = 1.3904e+02, fun_val = 2.1685e+02\n",
      "i = 72, tol = 1.8781e+01, fun_val = 1.9807e+02\n",
      "i = 73, tol = 1.2752e+02, fun_val = 3.2559e+02\n",
      "i = 74, tol = 4.5734e+01, fun_val = 3.7133e+02\n",
      "i = 75, tol = 1.0380e+02, fun_val = 4.7513e+02\n",
      "i = 76, tol = 2.7085e+02, fun_val = 2.0428e+02\n",
      "i = 77, tol = 2.2655e+02, fun_val = 4.3083e+02\n",
      "i = 78, tol = 1.8574e+02, fun_val = 2.4509e+02\n",
      "i = 79, tol = 4.4163e+01, fun_val = 2.0092e+02\n",
      "i = 80, tol = 2.3693e+01, fun_val = 2.2462e+02\n",
      "i = 81, tol = 1.4402e+02, fun_val = 3.6864e+02\n",
      "i = 82, tol = 1.3533e+02, fun_val = 2.3331e+02\n",
      "i = 83, tol = 2.9172e+02, fun_val = 5.2504e+02\n",
      "i = 84, tol = 3.0316e+02, fun_val = 2.2187e+02\n",
      "i = 85, tol = 6.7888e+01, fun_val = 2.8976e+02\n",
      "i = 86, tol = 7.4655e+01, fun_val = 2.1510e+02\n",
      "i = 87, tol = 7.9206e+01, fun_val = 2.9431e+02\n",
      "i = 88, tol = 8.5796e+01, fun_val = 2.0851e+02\n",
      "i = 89, tol = 2.3286e+00, fun_val = 2.1084e+02\n",
      "i = 90, tol = 9.0554e+00, fun_val = 2.0179e+02\n",
      "i = 91, tol = 1.4008e+02, fun_val = 3.4187e+02\n",
      "i = 92, tol = 1.4140e+02, fun_val = 2.0047e+02\n",
      "i = 93, tol = 5.8292e+00, fun_val = 2.0630e+02\n",
      "i = 94, tol = 2.2158e+02, fun_val = 4.2788e+02\n",
      "i = 95, tol = 2.2954e+02, fun_val = 1.9834e+02\n",
      "i = 96, tol = 1.9860e+00, fun_val = 2.0033e+02\n",
      "i = 97, tol = 1.4398e+02, fun_val = 3.4431e+02\n",
      "i = 98, tol = 1.3498e+02, fun_val = 2.0933e+02\n",
      "i = 99, tol = 1.5016e+01, fun_val = 1.9431e+02\n",
      "i = 100, tol = 2.6467e+02, fun_val = 4.5898e+02\n",
      "i = 100, tol = 2.6467e+02, fun_val = 4.5898e+02\n"
     ]
    },
    {
     "data": {
      "text/plain": [
       "(array([-0.80619482, -0.95976298, -0.28919857, -0.10859547,  0.50211707]),\n",
       " array([[ 100.        ],\n",
       "        [4163.48352715],\n",
       "        [ 346.2134459 ],\n",
       "        [1242.66841521],\n",
       "        [1246.97572805],\n",
       "        [4562.79245219],\n",
       "        [1631.87759342],\n",
       "        [2520.21972124],\n",
       "        [2766.7983853 ],\n",
       "        [1277.50859165],\n",
       "        [ 373.24747494],\n",
       "        [ 676.45920362],\n",
       "        [4489.8774527 ],\n",
       "        [1415.2937419 ],\n",
       "        [ 284.62887397],\n",
       "        [ 290.24553524],\n",
       "        [1267.57365489],\n",
       "        [ 442.33580694],\n",
       "        [3452.6471676 ],\n",
       "        [1519.51562692],\n",
       "        [ 433.19144178],\n",
       "        [ 579.2647527 ],\n",
       "        [ 247.63567725],\n",
       "        [ 620.56432388],\n",
       "        [2580.655213  ],\n",
       "        [1468.10696959],\n",
       "        [1340.48779536],\n",
       "        [2519.48576853],\n",
       "        [ 501.6064078 ],\n",
       "        [ 329.20730606],\n",
       "        [ 574.8219743 ],\n",
       "        [3749.45780842],\n",
       "        [ 239.33556347],\n",
       "        [ 647.05338283],\n",
       "        [ 336.67854058],\n",
       "        [ 246.9071211 ],\n",
       "        [ 385.700253  ],\n",
       "        [ 632.1910704 ],\n",
       "        [ 640.70432606],\n",
       "        [ 309.06885887],\n",
       "        [ 560.68280278],\n",
       "        [ 476.48824132],\n",
       "        [ 308.26435384],\n",
       "        [ 434.85469343],\n",
       "        [ 293.84569529],\n",
       "        [ 261.73294007],\n",
       "        [ 813.62993592],\n",
       "        [ 206.4679242 ],\n",
       "        [ 276.64430724],\n",
       "        [ 285.67069975],\n",
       "        [ 503.73583494],\n",
       "        [ 438.79290375],\n",
       "        [ 247.48388339],\n",
       "        [ 235.47440355],\n",
       "        [ 272.63115286],\n",
       "        [ 220.19694725],\n",
       "        [ 297.40486741],\n",
       "        [ 446.65553411],\n",
       "        [ 205.25472457],\n",
       "        [ 284.06791302],\n",
       "        [ 537.82876102],\n",
       "        [ 309.71955198],\n",
       "        [ 558.14832995],\n",
       "        [2476.57664514],\n",
       "        [ 242.6150275 ],\n",
       "        [ 276.5472993 ],\n",
       "        [ 204.14570215],\n",
       "        [ 239.37701939],\n",
       "        [ 294.17665369],\n",
       "        [ 235.64134752],\n",
       "        [ 355.89053348],\n",
       "        [ 216.8503487 ],\n",
       "        [ 198.06969833],\n",
       "        [ 325.59091008],\n",
       "        [ 371.32508916],\n",
       "        [ 475.12670435],\n",
       "        [ 204.27634036],\n",
       "        [ 430.82915001],\n",
       "        [ 245.08761081],\n",
       "        [ 200.92423678],\n",
       "        [ 224.61688995],\n",
       "        [ 368.64136003],\n",
       "        [ 233.31084422],\n",
       "        [ 525.03574234],\n",
       "        [ 221.87094679],\n",
       "        [ 289.75844754],\n",
       "        [ 215.10341455],\n",
       "        [ 294.30945772],\n",
       "        [ 208.51392901],\n",
       "        [ 210.84254011],\n",
       "        [ 201.78712196],\n",
       "        [ 341.86832089],\n",
       "        [ 200.46869391],\n",
       "        [ 206.2978608 ],\n",
       "        [ 427.8813395 ],\n",
       "        [ 198.34008669],\n",
       "        [ 200.32607484],\n",
       "        [ 344.31034603],\n",
       "        [ 209.32954625],\n",
       "        [ 194.31388962],\n",
       "        [ 458.98043697]]))"
      ]
     },
     "execution_count": 19,
     "metadata": {},
     "output_type": "execute_result"
    }
   ],
   "source": [
    "log_reg(train_X,train_y, f, grad,var = var_list[0], epsilon=1e-6, rate_scheduler=schedule(g,d))"
   ]
  },
  {
   "cell_type": "code",
   "execution_count": null,
   "metadata": {},
   "outputs": [],
   "source": []
  },
  {
   "cell_type": "code",
   "execution_count": null,
   "metadata": {},
   "outputs": [],
   "source": []
  },
  {
   "cell_type": "code",
   "execution_count": null,
   "metadata": {},
   "outputs": [],
   "source": []
  }
 ],
 "metadata": {
  "kernelspec": {
   "display_name": "Python 3",
   "language": "python",
   "name": "python3"
  },
  "language_info": {
   "codemirror_mode": {
    "name": "ipython",
    "version": 3
   },
   "file_extension": ".py",
   "mimetype": "text/x-python",
   "name": "python",
   "nbconvert_exporter": "python",
   "pygments_lexer": "ipython3",
   "version": "3.7.3"
  }
 },
 "nbformat": 4,
 "nbformat_minor": 2
}
