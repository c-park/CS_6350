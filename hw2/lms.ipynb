{
 "cells": [
  {
   "cell_type": "markdown",
   "metadata": {},
   "source": [
    "# 2.2.4 Least Mean Squares\n",
    "#### CS 6350: HW 2\n",
    "\n",
    "---"
   ]
  },
  {
   "cell_type": "markdown",
   "metadata": {},
   "source": [
    "[22 points] We will implement the LMS method for a linear regression task. The dataset\n",
    "is from UCI repository (https://archive.ics.uci.edu/ml/datasets/Concrete+Slump+Test). The task is to predict the real-valued SLUMP of the concrete, with 7 features.\n",
    "The features and output are listed in the file “concrete/data-desc.txt”. The training data are stored in the file “concrete/train.csv”, consisting of 53 examples. The\n",
    "test data are stored in “concrete/test.csv”, and comprise of 50 examples. In both the\n",
    "training and testing datasets, feature values and outputs are separated by commas.\n"
   ]
  },
  {
   "cell_type": "code",
   "execution_count": null,
   "metadata": {},
   "outputs": [],
   "source": []
  },
  {
   "cell_type": "code",
   "execution_count": 1,
   "metadata": {},
   "outputs": [],
   "source": [
    "import numpy as np\n",
    "import pandas as pd\n",
    "\n",
    "import matplotlib.pyplot as plt\n",
    "%matplotlib inline  \n",
    "#plt.rcParams['figure.figsize'] = (10, 6)"
   ]
  },
  {
   "cell_type": "code",
   "execution_count": null,
   "metadata": {},
   "outputs": [],
   "source": []
  },
  {
   "cell_type": "code",
   "execution_count": 2,
   "metadata": {},
   "outputs": [],
   "source": [
    "test_data = pd.read_csv('concrete/test.csv', header=None)\n",
    "train_data = pd.read_csv('concrete/train.csv', header=None)\n",
    "\n",
    "# first 7 columns are features, last column (Slump) is output\n",
    "columns = ['Cement', 'Slag', 'Fly ash', 'Water','SP', 'Coarse Aggr', 'Fine Aggr', 'Slump']\n",
    "features = columns[:-1]\n",
    "output = columns[-1]\n",
    "\n",
    "test_data.columns = columns\n",
    "train_data.columns = columns"
   ]
  },
  {
   "cell_type": "code",
   "execution_count": 3,
   "metadata": {},
   "outputs": [
    {
     "data": {
      "text/html": [
       "<div>\n",
       "<style scoped>\n",
       "    .dataframe tbody tr th:only-of-type {\n",
       "        vertical-align: middle;\n",
       "    }\n",
       "\n",
       "    .dataframe tbody tr th {\n",
       "        vertical-align: top;\n",
       "    }\n",
       "\n",
       "    .dataframe thead th {\n",
       "        text-align: right;\n",
       "    }\n",
       "</style>\n",
       "<table border=\"1\" class=\"dataframe\">\n",
       "  <thead>\n",
       "    <tr style=\"text-align: right;\">\n",
       "      <th></th>\n",
       "      <th>Cement</th>\n",
       "      <th>Slag</th>\n",
       "      <th>Fly ash</th>\n",
       "      <th>Water</th>\n",
       "      <th>SP</th>\n",
       "      <th>Coarse Aggr</th>\n",
       "      <th>Fine Aggr</th>\n",
       "      <th>Slump</th>\n",
       "    </tr>\n",
       "  </thead>\n",
       "  <tbody>\n",
       "    <tr>\n",
       "      <th>0</th>\n",
       "      <td>-0.890447</td>\n",
       "      <td>-1.295950</td>\n",
       "      <td>1.188030</td>\n",
       "      <td>-1.450430</td>\n",
       "      <td>1.238500</td>\n",
       "      <td>1.876070</td>\n",
       "      <td>-0.818684</td>\n",
       "      <td>-0.005574</td>\n",
       "    </tr>\n",
       "    <tr>\n",
       "      <th>1</th>\n",
       "      <td>0.549165</td>\n",
       "      <td>0.066917</td>\n",
       "      <td>-0.517804</td>\n",
       "      <td>0.638098</td>\n",
       "      <td>0.164716</td>\n",
       "      <td>0.227616</td>\n",
       "      <td>-0.945600</td>\n",
       "      <td>0.568593</td>\n",
       "    </tr>\n",
       "    <tr>\n",
       "      <th>2</th>\n",
       "      <td>0.941555</td>\n",
       "      <td>-1.292630</td>\n",
       "      <td>1.068030</td>\n",
       "      <td>1.950890</td>\n",
       "      <td>-0.085833</td>\n",
       "      <td>-1.180960</td>\n",
       "      <td>-0.385584</td>\n",
       "      <td>0.798260</td>\n",
       "    </tr>\n",
       "    <tr>\n",
       "      <th>3</th>\n",
       "      <td>-0.966886</td>\n",
       "      <td>1.047520</td>\n",
       "      <td>0.376289</td>\n",
       "      <td>1.831540</td>\n",
       "      <td>0.880569</td>\n",
       "      <td>-0.988829</td>\n",
       "      <td>-0.898007</td>\n",
       "      <td>0.568593</td>\n",
       "    </tr>\n",
       "    <tr>\n",
       "      <th>4</th>\n",
       "      <td>0.638344</td>\n",
       "      <td>0.233121</td>\n",
       "      <td>-0.364867</td>\n",
       "      <td>0.488917</td>\n",
       "      <td>0.164716</td>\n",
       "      <td>-0.011126</td>\n",
       "      <td>-0.961465</td>\n",
       "      <td>0.855677</td>\n",
       "    </tr>\n",
       "  </tbody>\n",
       "</table>\n",
       "</div>"
      ],
      "text/plain": [
       "     Cement      Slag   Fly ash     Water        SP  Coarse Aggr  Fine Aggr  \\\n",
       "0 -0.890447 -1.295950  1.188030 -1.450430  1.238500     1.876070  -0.818684   \n",
       "1  0.549165  0.066917 -0.517804  0.638098  0.164716     0.227616  -0.945600   \n",
       "2  0.941555 -1.292630  1.068030  1.950890 -0.085833    -1.180960  -0.385584   \n",
       "3 -0.966886  1.047520  0.376289  1.831540  0.880569    -0.988829  -0.898007   \n",
       "4  0.638344  0.233121 -0.364867  0.488917  0.164716    -0.011126  -0.961465   \n",
       "\n",
       "      Slump  \n",
       "0 -0.005574  \n",
       "1  0.568593  \n",
       "2  0.798260  \n",
       "3  0.568593  \n",
       "4  0.855677  "
      ]
     },
     "execution_count": 3,
     "metadata": {},
     "output_type": "execute_result"
    }
   ],
   "source": [
    "train_data.head()"
   ]
  },
  {
   "cell_type": "code",
   "execution_count": 4,
   "metadata": {},
   "outputs": [
    {
     "data": {
      "text/plain": [
       "((53, 8), (50, 8))"
      ]
     },
     "execution_count": 4,
     "metadata": {},
     "output_type": "execute_result"
    }
   ],
   "source": [
    "train_data.shape, test_data.shape"
   ]
  },
  {
   "cell_type": "code",
   "execution_count": 5,
   "metadata": {},
   "outputs": [],
   "source": [
    "A = train_data.iloc[:,:-1].to_numpy()"
   ]
  },
  {
   "cell_type": "code",
   "execution_count": 6,
   "metadata": {},
   "outputs": [
    {
     "data": {
      "text/plain": [
       "(53, 7)"
      ]
     },
     "execution_count": 6,
     "metadata": {},
     "output_type": "execute_result"
    }
   ],
   "source": [
    "A.shape"
   ]
  },
  {
   "cell_type": "code",
   "execution_count": 2,
   "metadata": {},
   "outputs": [],
   "source": [
    "import numpy as np"
   ]
  },
  {
   "cell_type": "code",
   "execution_count": 3,
   "metadata": {},
   "outputs": [
    {
     "data": {
      "text/plain": [
       "2.302585092994046"
      ]
     },
     "execution_count": 3,
     "metadata": {},
     "output_type": "execute_result"
    }
   ],
   "source": [
    "np.log(10)"
   ]
  },
  {
   "cell_type": "code",
   "execution_count": 5,
   "metadata": {},
   "outputs": [
    {
     "data": {
      "text/plain": [
       "4.605170185988092"
      ]
     },
     "execution_count": 5,
     "metadata": {},
     "output_type": "execute_result"
    }
   ],
   "source": [
    "np.log(100)"
   ]
  },
  {
   "cell_type": "code",
   "execution_count": null,
   "metadata": {},
   "outputs": [],
   "source": []
  },
  {
   "cell_type": "code",
   "execution_count": null,
   "metadata": {},
   "outputs": [],
   "source": []
  },
  {
   "cell_type": "markdown",
   "metadata": {},
   "source": [
    "---\n",
    "\n",
    "### A. Batch Gradient Descent"
   ]
  },
  {
   "cell_type": "markdown",
   "metadata": {},
   "source": [
    " [8 points] Implement the batch gradient descent algorithm, and tune the learning\n",
    "rate r to ensure the algorithm converges. To examine convergence, you can watch\n",
    "the norm of the weight vector difference, kwt−wt−1k, at each step t. if kwt−wt−1k\n",
    "is less than a tolerance level, say, 1e − 6, you can conclude that it converges. You\n",
    "can initialize your weight vector to be 0. Please find an appropriate r such that\n",
    "the algorithm converges. To tune r, you can start with a relatively big value,\n",
    "say, r = 1, and then gradually decrease r, say r = 0.5, 0.25, 0.125, . . ., until you\n",
    "see the convergence. Report the learned weight vector, and the learning rate r.\n",
    "Meanwhile, please record the cost function value of the training data at each step,\n",
    "and then draw a figure shows how the cost function changes along with steps. Use\n",
    "your final weight vector to calculate the cost function value of the test data.\n"
   ]
  },
  {
   "cell_type": "code",
   "execution_count": 7,
   "metadata": {},
   "outputs": [],
   "source": [
    "def bdc_method(A,b, epsilon, t=0.01):\n",
    "    \"\"\" Batch Gradient Descent Method\n",
    "    \n",
    "    Args:\n",
    "        A (mxn numpy array): input array holding m samples with n features\n",
    "        b (mx1 numpy array): output \n",
    "        epsilon (float): tolerance level\n",
    "        t (float): learning rate\n",
    "\n",
    "    Returns:\n",
    "        tree (dict): dictionary structure represented the decision tree\n",
    "  \n",
    "    \"\"\"\n",
    "    x = np.zeros(A.shape[1])\n",
    "    \n",
    "    diff = 1\n",
    "\n",
    "    iter=0\n",
    "    fun_val=f(A,b,x)\n",
    "    fun_history = fun_val\n",
    "    \n",
    "    grad=g(A,b,x)\n",
    "    while (np.linalg.norm(diff)>epsilon):\n",
    "        iter=iter+1\n",
    "        \n",
    "        # break out of while loop if diverging\n",
    "        if np.linalg.norm(diff)>1e20:\n",
    "            break\n",
    "  \n",
    "        # define new point x = x + t d, d = - grad\n",
    "        x_new=x-t*grad\n",
    "        diff = x_new - x\n",
    "        x = x_new\n",
    "\n",
    "        fun_val= f(A,b,x)\n",
    "        fun_history = np.vstack((fun_history,fun_val))\n",
    "        grad = g(A,b,x)\n",
    "        #if iter % 100 == 0:\n",
    "            #print('iter_number = {}, tol = {:.4e}, fun_val = {:.4e}'.format(iter, np.linalg.norm(diff), fun_val))\n",
    "        \n",
    "    if np.linalg.norm(diff)>1e20:\n",
    "        iter = None\n",
    "        print('Algorithm does not converge!')\n",
    "    print('iter_number = {}, tol = {:.4e}, fun_val = {:.4e}'.format(iter, np.linalg.norm(diff), fun_val))\n",
    "    return x, fun_history"
   ]
  },
  {
   "cell_type": "code",
   "execution_count": 8,
   "metadata": {},
   "outputs": [],
   "source": [
    "def f(A,b, x):\n",
    "    \"\"\" Calculates the loss funtion value\n",
    "    \"\"\"\n",
    "    val = 0.0\n",
    "    \n",
    "    for i in range(A.shape[0]):\n",
    "        val += (b[i] - x@A[i,:])**2\n",
    "        \n",
    "    return val / 2"
   ]
  },
  {
   "cell_type": "code",
   "execution_count": 9,
   "metadata": {},
   "outputs": [],
   "source": [
    "def g(A,b, x):\n",
    "    \"\"\" Calculates the gradient\n",
    "    \"\"\"\n",
    "    grad = np.zeros(x.shape)\n",
    "    \n",
    "    for j in range(len(grad)):\n",
    "        for i in range(A.shape[0]):\n",
    "            grad[j] += (b[i] - x@A[i,:])*A[i,j]\n",
    "        \n",
    "    return - grad"
   ]
  },
  {
   "cell_type": "markdown",
   "metadata": {},
   "source": [
    "### Learning weights"
   ]
  },
  {
   "cell_type": "code",
   "execution_count": 10,
   "metadata": {},
   "outputs": [],
   "source": [
    "train_data_array = train_data.to_numpy()\n",
    "\n",
    "A = train_data_array[:,:-1]\n",
    "A = np.insert(A,0,np.ones(A.shape[0]), axis=1)\n",
    "\n",
    "b = train_data_array[:,-1]"
   ]
  },
  {
   "cell_type": "code",
   "execution_count": 10,
   "metadata": {},
   "outputs": [
    {
     "data": {
      "text/plain": [
       "((53, 8), (53,))"
      ]
     },
     "execution_count": 10,
     "metadata": {},
     "output_type": "execute_result"
    }
   ],
   "source": [
    "A.shape, b.shape"
   ]
  },
  {
   "cell_type": "code",
   "execution_count": 11,
   "metadata": {},
   "outputs": [],
   "source": [
    "epsilon = 1e-6"
   ]
  },
  {
   "cell_type": "code",
   "execution_count": 38,
   "metadata": {},
   "outputs": [],
   "source": [
    "x, fh = gradient_method(A,b, epsilon)"
   ]
  },
  {
   "cell_type": "code",
   "execution_count": 40,
   "metadata": {},
   "outputs": [
    {
     "data": {
      "text/plain": [
       "(7095, 1)"
      ]
     },
     "execution_count": 40,
     "metadata": {},
     "output_type": "execute_result"
    }
   ],
   "source": [
    "fh.shape"
   ]
  },
  {
   "cell_type": "code",
   "execution_count": 54,
   "metadata": {},
   "outputs": [
    {
     "data": {
      "image/png": "[encoded data removed]",
      "text/plain": [
       "<Figure size 432x288 with 1 Axes>"
      ]
     },
     "metadata": {
      "needs_background": "light"
     },
     "output_type": "display_data"
    }
   ],
   "source": [
    "plt.scatter(range(len(fh)),fh, s=3)\n",
    "plt.title('Cost function vs Time')\n",
    "plt.xlabel('Iteration #')\n",
    "plt.ylabel('Cost Function Value')\n",
    "\n",
    "plt.show()"
   ]
  },
  {
   "cell_type": "markdown",
   "metadata": {},
   "source": [
    "### Tuning learning rate"
   ]
  },
  {
   "cell_type": "code",
   "execution_count": 106,
   "metadata": {},
   "outputs": [
    {
     "data": {
      "text/plain": [
       "[1.0, 0.5, 0.25, 0.125, 0.0625, 0.03125, 0.015625, 0.0078125]"
      ]
     },
     "execution_count": 106,
     "metadata": {},
     "output_type": "execute_result"
    }
   ],
   "source": [
    "rates = [1/(2**i) for i in range(8)]\n",
    "\n",
    "rates"
   ]
  },
  {
   "cell_type": "code",
   "execution_count": 62,
   "metadata": {},
   "outputs": [
    {
     "data": {
      "text/plain": [
       "0"
      ]
     },
     "execution_count": 62,
     "metadata": {},
     "output_type": "execute_result"
    }
   ],
   "source": [
    "4%2"
   ]
  },
  {
   "cell_type": "code",
   "execution_count": null,
   "metadata": {},
   "outputs": [],
   "source": []
  },
  {
   "cell_type": "code",
   "execution_count": 107,
   "metadata": {},
   "outputs": [
    {
     "name": "stdout",
     "output_type": "stream",
     "text": [
      "Algorithm does not converge!\n",
      "iter_number = None, tol = 2.1795e+20, fun_val = 3.1189e+42\n"
     ]
    }
   ],
   "source": [
    "x1, fh1 = batch_gradient_method(A,b, epsilon,t=1)"
   ]
  },
  {
   "cell_type": "code",
   "execution_count": 108,
   "metadata": {},
   "outputs": [
    {
     "name": "stdout",
     "output_type": "stream",
     "text": [
      "Algorithm does not converge!\n",
      "iter_number = None, tol = 8.5691e+20, fun_val = 4.7487e+43\n"
     ]
    }
   ],
   "source": [
    "x2, fh2 = batch_gradient_method(A,b, epsilon,t=0.5)"
   ]
  },
  {
   "cell_type": "code",
   "execution_count": 109,
   "metadata": {},
   "outputs": [
    {
     "name": "stdout",
     "output_type": "stream",
     "text": [
      "Algorithm does not converge!\n",
      "iter_number = None, tol = 1.8467e+20, fun_val = 2.1388e+42\n"
     ]
    }
   ],
   "source": [
    "x3, fh3 = batch_gradient_method(A,b, epsilon,t=0.25)"
   ]
  },
  {
   "cell_type": "code",
   "execution_count": 110,
   "metadata": {},
   "outputs": [
    {
     "name": "stdout",
     "output_type": "stream",
     "text": [
      "Algorithm does not converge!\n",
      "iter_number = None, tol = 4.5099e+20, fun_val = 1.1979e+43\n"
     ]
    }
   ],
   "source": [
    "x4, fh4 = batch_gradient_method(A,b, epsilon,t=0.125)"
   ]
  },
  {
   "cell_type": "code",
   "execution_count": 111,
   "metadata": {},
   "outputs": [
    {
     "name": "stdout",
     "output_type": "stream",
     "text": [
      "Algorithm does not converge!\n",
      "iter_number = None, tol = 6.3839e+20, fun_val = 2.1036e+43\n"
     ]
    }
   ],
   "source": [
    "x5, fh5 = batch_gradient_method(A,b, epsilon,t=0.0625)"
   ]
  },
  {
   "cell_type": "code",
   "execution_count": 112,
   "metadata": {},
   "outputs": [
    {
     "name": "stdout",
     "output_type": "stream",
     "text": [
      "Algorithm does not converge!\n",
      "iter_number = None, tol = 1.8178e+20, fun_val = 1.2720e+42\n"
     ]
    }
   ],
   "source": [
    "x6, fh6 = batch_gradient_method(A,b, epsilon,t=0.03125)"
   ]
  },
  {
   "cell_type": "code",
   "execution_count": 113,
   "metadata": {},
   "outputs": [
    {
     "name": "stdout",
     "output_type": "stream",
     "text": [
      "Algorithm does not converge!\n",
      "iter_number = None, tol = 1.0038e+20, fun_val = 1.8157e+41\n"
     ]
    }
   ],
   "source": [
    "x7, fh7 = batch_gradient_method(A,b, epsilon,t=0.015625)"
   ]
  },
  {
   "cell_type": "code",
   "execution_count": 114,
   "metadata": {},
   "outputs": [
    {
     "name": "stdout",
     "output_type": "stream",
     "text": [
      "iter_number = 8800, tol = 9.9976e-07, fun_val = 1.4982e+01\n"
     ]
    }
   ],
   "source": [
    "x8, fh8 = batch_gradient_method(A,b, epsilon,t=0.0078125)"
   ]
  },
  {
   "cell_type": "code",
   "execution_count": null,
   "metadata": {},
   "outputs": [],
   "source": []
  },
  {
   "cell_type": "code",
   "execution_count": 115,
   "metadata": {},
   "outputs": [
    {
     "name": "stdout",
     "output_type": "stream",
     "text": [
      "iter_number = 7094, tol = 9.9916e-07, fun_val = 1.4982e+01\n"
     ]
    }
   ],
   "source": [
    "x9, fh9 = batch_gradient_method(A,b, epsilon,t=0.01)"
   ]
  },
  {
   "cell_type": "code",
   "execution_count": null,
   "metadata": {},
   "outputs": [],
   "source": []
  },
  {
   "cell_type": "markdown",
   "metadata": {},
   "source": [
    "Use your final weight vector to calculate the cost function value of the test data:"
   ]
  },
  {
   "cell_type": "code",
   "execution_count": 121,
   "metadata": {},
   "outputs": [
    {
     "data": {
      "text/plain": [
       "array([14.98194366])"
      ]
     },
     "execution_count": 121,
     "metadata": {},
     "output_type": "execute_result"
    }
   ],
   "source": [
    "# cost function on training data\n",
    "fh9[-1]"
   ]
  },
  {
   "cell_type": "code",
   "execution_count": 118,
   "metadata": {},
   "outputs": [],
   "source": [
    "test_data_array = test_data.to_numpy()\n",
    "\n",
    "A_test = test_data_array[:,:-1]\n",
    "A_test = np.insert(A_test,0,np.ones(A_test.shape[0]), axis=1)\n",
    "\n",
    "b_test = test_data_array[:,-1]"
   ]
  },
  {
   "cell_type": "code",
   "execution_count": 122,
   "metadata": {},
   "outputs": [
    {
     "data": {
      "text/plain": [
       "23.36175759033997"
      ]
     },
     "execution_count": 122,
     "metadata": {},
     "output_type": "execute_result"
    }
   ],
   "source": [
    "# cost funtion on test data\n",
    "f(A_test,b_test, x9)"
   ]
  },
  {
   "cell_type": "code",
   "execution_count": null,
   "metadata": {},
   "outputs": [],
   "source": []
  },
  {
   "cell_type": "code",
   "execution_count": null,
   "metadata": {},
   "outputs": [],
   "source": []
  },
  {
   "cell_type": "code",
   "execution_count": null,
   "metadata": {},
   "outputs": [],
   "source": []
  },
  {
   "cell_type": "markdown",
   "metadata": {},
   "source": [
    "---\n",
    "\n",
    "### B. Stochastic Gradient Descent"
   ]
  },
  {
   "cell_type": "markdown",
   "metadata": {},
   "source": [
    " [8 points] Implement the stochastic gradient descent (SGD) algorithm. You can\n",
    "initialize your weight vector to be 0. Each step, you randomly sample a training\n",
    "example, and then calculate the stochastic gradient to update the weight vector.\n",
    "Tune the learning rate r to ensure your SGD converges. To check convergence, you\n",
    "can calculate the cost function of the training data after each stochastic gradient\n",
    "update, and draw a figure showing how the cost function values vary along with\n",
    "the number of updates. At the beginning, your curve will oscillate a lot. However,\n",
    "with an appropriate r, as more and more updates are finished, you will see the\n",
    "cost function tends to converge. Please report the learned weight vector, and the\n",
    "learning rate you chose, and the cost function value of the test data with your\n",
    "learned weight vector."
   ]
  },
  {
   "cell_type": "code",
   "execution_count": 195,
   "metadata": {},
   "outputs": [],
   "source": []
  },
  {
   "cell_type": "code",
   "execution_count": 196,
   "metadata": {},
   "outputs": [
    {
     "data": {
      "text/plain": [
       "(53, 8)"
      ]
     },
     "execution_count": 196,
     "metadata": {},
     "output_type": "execute_result"
    }
   ],
   "source": []
  },
  {
   "cell_type": "code",
   "execution_count": 23,
   "metadata": {},
   "outputs": [],
   "source": [
    "def sgd_method(df, attrs, target_attr, epsilon, t=0.01):\n",
    "    \"\"\" Stochastic Gradient Descent Method\n",
    "    \n",
    "    Args:\n",
    "        A (mxn numpy array): input array holding m samples with n features\n",
    "        b (mx1 numpy array): output \n",
    "        epsilon (float): tolerance level\n",
    "        t (float): learning rate\n",
    "\n",
    "    Returns:\n",
    "        tree (dict): dictionary structure represented the decision tree\n",
    "  \n",
    "    \"\"\"\n",
    "    \n",
    "    m,n = df.shape\n",
    "    \n",
    "    # convert to numpy array\n",
    "    data = df.to_numpy()\n",
    "    \n",
    "    # Separate to Ax=b where A is input matrix, x is vector of weights, and b the vector of outputs\n",
    "    A = data[:,:-1]\n",
    "    A = np.insert(A,0,np.ones(m), axis=1)\n",
    "    b = data[:,-1] \n",
    "    x = np.zeros(n)\n",
    "\n",
    "    iter=0\n",
    "    max_iter = 20000\n",
    "    cur_val=100\n",
    "    prev_val = np.inf\n",
    "    history = cur_val\n",
    "    \n",
    "    while np.linalg.norm(prev_val-cur_val) > epsilon and iter < max_iter:\n",
    "        iter = iter + 1\n",
    "        prev_val = cur_val\n",
    "        \n",
    "        # shuffle indexes for sampling\n",
    "        indexes = np.random.randint(m, size=m)\n",
    "        \n",
    "        for i in indexes:\n",
    "            # define new point x = x + t d, d = - grad\n",
    "            x = x + t*(b[i] - np.dot(x,A[i]))*A[i]\n",
    "\n",
    "        cur_val= f(A,b,x)\n",
    "        history = np.vstack((history,cur_val))\n",
    "            \n",
    "        \n",
    "        #print('i = {}, tol = {:.4e}, fun_val = {:.4e}'.format(iter, np.linalg.norm(prev_val-cur_val), cur_val))\n",
    "        \n",
    "    print('i = {}, tol = {:.4e}, fun_val = {:.4e}'.format(iter, np.linalg.norm(prev_val-cur_val), cur_val))\n",
    "    return x, history"
   ]
  },
  {
   "cell_type": "code",
   "execution_count": 228,
   "metadata": {},
   "outputs": [
    {
     "data": {
      "text/plain": [
       "False"
      ]
     },
     "execution_count": 228,
     "metadata": {},
     "output_type": "execute_result"
    }
   ],
   "source": [
    "np.linalg.norm(100-0) < epsilon"
   ]
  },
  {
   "cell_type": "code",
   "execution_count": 223,
   "metadata": {},
   "outputs": [
    {
     "data": {
      "text/plain": [
       "1e-06"
      ]
     },
     "execution_count": 223,
     "metadata": {},
     "output_type": "execute_result"
    }
   ],
   "source": [
    "epsilon"
   ]
  },
  {
   "cell_type": "code",
   "execution_count": 13,
   "metadata": {},
   "outputs": [],
   "source": [
    "data = train_data"
   ]
  },
  {
   "cell_type": "code",
   "execution_count": null,
   "metadata": {},
   "outputs": [],
   "source": []
  },
  {
   "cell_type": "code",
   "execution_count": 56,
   "metadata": {},
   "outputs": [
    {
     "name": "stdout",
     "output_type": "stream",
     "text": [
      "i = 3497, tol = 2.1769e-07, fun_val = 1.6266e+01\n"
     ]
    }
   ],
   "source": [
    "x_b, h_b = sgd_method(data, features, output, epsilon,t=0.00001)"
   ]
  },
  {
   "cell_type": "code",
   "execution_count": null,
   "metadata": {},
   "outputs": [],
   "source": []
  },
  {
   "cell_type": "code",
   "execution_count": null,
   "metadata": {},
   "outputs": [],
   "source": []
  },
  {
   "cell_type": "code",
   "execution_count": null,
   "metadata": {},
   "outputs": [],
   "source": []
  },
  {
   "cell_type": "code",
   "execution_count": null,
   "metadata": {},
   "outputs": [],
   "source": []
  },
  {
   "cell_type": "code",
   "execution_count": 189,
   "metadata": {},
   "outputs": [],
   "source": [
    "c = np.random.randint(len(train_data), size=len(train_data))"
   ]
  },
  {
   "cell_type": "code",
   "execution_count": 190,
   "metadata": {},
   "outputs": [
    {
     "data": {
      "text/plain": [
       "53"
      ]
     },
     "execution_count": 190,
     "metadata": {},
     "output_type": "execute_result"
    }
   ],
   "source": [
    "len(c)"
   ]
  },
  {
   "cell_type": "code",
   "execution_count": 160,
   "metadata": {},
   "outputs": [
    {
     "data": {
      "text/html": [
       "<div>\n",
       "<style scoped>\n",
       "    .dataframe tbody tr th:only-of-type {\n",
       "        vertical-align: middle;\n",
       "    }\n",
       "\n",
       "    .dataframe tbody tr th {\n",
       "        vertical-align: top;\n",
       "    }\n",
       "\n",
       "    .dataframe thead th {\n",
       "        text-align: right;\n",
       "    }\n",
       "</style>\n",
       "<table border=\"1\" class=\"dataframe\">\n",
       "  <thead>\n",
       "    <tr style=\"text-align: right;\">\n",
       "      <th></th>\n",
       "      <th>Cement</th>\n",
       "      <th>Slag</th>\n",
       "      <th>Fly ash</th>\n",
       "      <th>Water</th>\n",
       "      <th>SP</th>\n",
       "      <th>Coarse Aggr</th>\n",
       "      <th>Fine Aggr</th>\n",
       "      <th>Slump</th>\n",
       "    </tr>\n",
       "  </thead>\n",
       "  <tbody>\n",
       "    <tr>\n",
       "      <th>0</th>\n",
       "      <td>-0.890447</td>\n",
       "      <td>-1.295950</td>\n",
       "      <td>1.188030</td>\n",
       "      <td>-1.450430</td>\n",
       "      <td>1.238500</td>\n",
       "      <td>1.876070</td>\n",
       "      <td>-0.818684</td>\n",
       "      <td>-0.005574</td>\n",
       "    </tr>\n",
       "    <tr>\n",
       "      <th>1</th>\n",
       "      <td>0.549165</td>\n",
       "      <td>0.066917</td>\n",
       "      <td>-0.517804</td>\n",
       "      <td>0.638098</td>\n",
       "      <td>0.164716</td>\n",
       "      <td>0.227616</td>\n",
       "      <td>-0.945600</td>\n",
       "      <td>0.568593</td>\n",
       "    </tr>\n",
       "    <tr>\n",
       "      <th>2</th>\n",
       "      <td>0.941555</td>\n",
       "      <td>-1.292630</td>\n",
       "      <td>1.068030</td>\n",
       "      <td>1.950890</td>\n",
       "      <td>-0.085833</td>\n",
       "      <td>-1.180960</td>\n",
       "      <td>-0.385584</td>\n",
       "      <td>0.798260</td>\n",
       "    </tr>\n",
       "    <tr>\n",
       "      <th>3</th>\n",
       "      <td>-0.966886</td>\n",
       "      <td>1.047520</td>\n",
       "      <td>0.376289</td>\n",
       "      <td>1.831540</td>\n",
       "      <td>0.880569</td>\n",
       "      <td>-0.988829</td>\n",
       "      <td>-0.898007</td>\n",
       "      <td>0.568593</td>\n",
       "    </tr>\n",
       "    <tr>\n",
       "      <th>4</th>\n",
       "      <td>0.638344</td>\n",
       "      <td>0.233121</td>\n",
       "      <td>-0.364867</td>\n",
       "      <td>0.488917</td>\n",
       "      <td>0.164716</td>\n",
       "      <td>-0.011126</td>\n",
       "      <td>-0.961465</td>\n",
       "      <td>0.855677</td>\n",
       "    </tr>\n",
       "  </tbody>\n",
       "</table>\n",
       "</div>"
      ],
      "text/plain": [
       "     Cement      Slag   Fly ash     Water        SP  Coarse Aggr  Fine Aggr  \\\n",
       "0 -0.890447 -1.295950  1.188030 -1.450430  1.238500     1.876070  -0.818684   \n",
       "1  0.549165  0.066917 -0.517804  0.638098  0.164716     0.227616  -0.945600   \n",
       "2  0.941555 -1.292630  1.068030  1.950890 -0.085833    -1.180960  -0.385584   \n",
       "3 -0.966886  1.047520  0.376289  1.831540  0.880569    -0.988829  -0.898007   \n",
       "4  0.638344  0.233121 -0.364867  0.488917  0.164716    -0.011126  -0.961465   \n",
       "\n",
       "      Slump  \n",
       "0 -0.005574  \n",
       "1  0.568593  \n",
       "2  0.798260  \n",
       "3  0.568593  \n",
       "4  0.855677  "
      ]
     },
     "execution_count": 160,
     "metadata": {},
     "output_type": "execute_result"
    }
   ],
   "source": [
    "train_data.head()"
   ]
  },
  {
   "cell_type": "code",
   "execution_count": 147,
   "metadata": {},
   "outputs": [],
   "source": [
    "d = train_data.sample(frac=1)   "
   ]
  },
  {
   "cell_type": "code",
   "execution_count": 148,
   "metadata": {},
   "outputs": [
    {
     "data": {
      "text/html": [
       "<div>\n",
       "<style scoped>\n",
       "    .dataframe tbody tr th:only-of-type {\n",
       "        vertical-align: middle;\n",
       "    }\n",
       "\n",
       "    .dataframe tbody tr th {\n",
       "        vertical-align: top;\n",
       "    }\n",
       "\n",
       "    .dataframe thead th {\n",
       "        text-align: right;\n",
       "    }\n",
       "</style>\n",
       "<table border=\"1\" class=\"dataframe\">\n",
       "  <thead>\n",
       "    <tr style=\"text-align: right;\">\n",
       "      <th></th>\n",
       "      <th>Cement</th>\n",
       "      <th>Slag</th>\n",
       "      <th>Fly ash</th>\n",
       "      <th>Water</th>\n",
       "      <th>SP</th>\n",
       "      <th>Coarse Aggr</th>\n",
       "      <th>Fine Aggr</th>\n",
       "      <th>Slump</th>\n",
       "    </tr>\n",
       "  </thead>\n",
       "  <tbody>\n",
       "    <tr>\n",
       "      <th>9</th>\n",
       "      <td>-0.852227</td>\n",
       "      <td>1.180480</td>\n",
       "      <td>0.493932</td>\n",
       "      <td>-0.853710</td>\n",
       "      <td>1.238500</td>\n",
       "      <td>-0.465871</td>\n",
       "      <td>0.101456</td>\n",
       "      <td>-2.072580</td>\n",
       "    </tr>\n",
       "    <tr>\n",
       "      <th>46</th>\n",
       "      <td>-0.903186</td>\n",
       "      <td>-1.295950</td>\n",
       "      <td>1.164500</td>\n",
       "      <td>-1.102350</td>\n",
       "      <td>1.238500</td>\n",
       "      <td>1.785120</td>\n",
       "      <td>-0.898007</td>\n",
       "      <td>0.338926</td>\n",
       "    </tr>\n",
       "    <tr>\n",
       "      <th>49</th>\n",
       "      <td>0.867663</td>\n",
       "      <td>0.482426</td>\n",
       "      <td>-1.753060</td>\n",
       "      <td>-0.555349</td>\n",
       "      <td>-0.909064</td>\n",
       "      <td>-0.056600</td>\n",
       "      <td>1.196110</td>\n",
       "      <td>-1.728080</td>\n",
       "    </tr>\n",
       "    <tr>\n",
       "      <th>7</th>\n",
       "      <td>-0.182107</td>\n",
       "      <td>0.580486</td>\n",
       "      <td>1.058620</td>\n",
       "      <td>0.076184</td>\n",
       "      <td>-0.407967</td>\n",
       "      <td>0.000243</td>\n",
       "      <td>-1.435810</td>\n",
       "      <td>1.085340</td>\n",
       "    </tr>\n",
       "    <tr>\n",
       "      <th>8</th>\n",
       "      <td>-1.142700</td>\n",
       "      <td>-0.551360</td>\n",
       "      <td>1.010390</td>\n",
       "      <td>-1.286330</td>\n",
       "      <td>-1.088030</td>\n",
       "      <td>1.860150</td>\n",
       "      <td>-0.564853</td>\n",
       "      <td>0.626010</td>\n",
       "    </tr>\n",
       "  </tbody>\n",
       "</table>\n",
       "</div>"
      ],
      "text/plain": [
       "      Cement      Slag   Fly ash     Water        SP  Coarse Aggr  Fine Aggr  \\\n",
       "9  -0.852227  1.180480  0.493932 -0.853710  1.238500    -0.465871   0.101456   \n",
       "46 -0.903186 -1.295950  1.164500 -1.102350  1.238500     1.785120  -0.898007   \n",
       "49  0.867663  0.482426 -1.753060 -0.555349 -0.909064    -0.056600   1.196110   \n",
       "7  -0.182107  0.580486  1.058620  0.076184 -0.407967     0.000243  -1.435810   \n",
       "8  -1.142700 -0.551360  1.010390 -1.286330 -1.088030     1.860150  -0.564853   \n",
       "\n",
       "       Slump  \n",
       "9  -2.072580  \n",
       "46  0.338926  \n",
       "49 -1.728080  \n",
       "7   1.085340  \n",
       "8   0.626010  "
      ]
     },
     "execution_count": 148,
     "metadata": {},
     "output_type": "execute_result"
    }
   ],
   "source": [
    "d.head()"
   ]
  },
  {
   "cell_type": "code",
   "execution_count": 137,
   "metadata": {},
   "outputs": [
    {
     "data": {
      "text/plain": [
       "(53, 8)"
      ]
     },
     "execution_count": 137,
     "metadata": {},
     "output_type": "execute_result"
    }
   ],
   "source": [
    "d.shape"
   ]
  },
  {
   "cell_type": "code",
   "execution_count": null,
   "metadata": {},
   "outputs": [],
   "source": [
    "train_data.size"
   ]
  },
  {
   "cell_type": "code",
   "execution_count": 125,
   "metadata": {},
   "outputs": [
    {
     "data": {
      "text/html": [
       "<div>\n",
       "<style scoped>\n",
       "    .dataframe tbody tr th:only-of-type {\n",
       "        vertical-align: middle;\n",
       "    }\n",
       "\n",
       "    .dataframe tbody tr th {\n",
       "        vertical-align: top;\n",
       "    }\n",
       "\n",
       "    .dataframe thead th {\n",
       "        text-align: right;\n",
       "    }\n",
       "</style>\n",
       "<table border=\"1\" class=\"dataframe\">\n",
       "  <thead>\n",
       "    <tr style=\"text-align: right;\">\n",
       "      <th></th>\n",
       "      <th>Cement</th>\n",
       "      <th>Slag</th>\n",
       "      <th>Fly ash</th>\n",
       "      <th>Water</th>\n",
       "      <th>SP</th>\n",
       "      <th>Coarse Aggr</th>\n",
       "      <th>Fine Aggr</th>\n",
       "      <th>Slump</th>\n",
       "    </tr>\n",
       "  </thead>\n",
       "  <tbody>\n",
       "    <tr>\n",
       "      <th>0</th>\n",
       "      <td>-0.890447</td>\n",
       "      <td>-1.295950</td>\n",
       "      <td>1.188030</td>\n",
       "      <td>-1.450430</td>\n",
       "      <td>1.238500</td>\n",
       "      <td>1.876070</td>\n",
       "      <td>-0.818684</td>\n",
       "      <td>-0.005574</td>\n",
       "    </tr>\n",
       "    <tr>\n",
       "      <th>1</th>\n",
       "      <td>0.549165</td>\n",
       "      <td>0.066917</td>\n",
       "      <td>-0.517804</td>\n",
       "      <td>0.638098</td>\n",
       "      <td>0.164716</td>\n",
       "      <td>0.227616</td>\n",
       "      <td>-0.945600</td>\n",
       "      <td>0.568593</td>\n",
       "    </tr>\n",
       "    <tr>\n",
       "      <th>2</th>\n",
       "      <td>0.941555</td>\n",
       "      <td>-1.292630</td>\n",
       "      <td>1.068030</td>\n",
       "      <td>1.950890</td>\n",
       "      <td>-0.085833</td>\n",
       "      <td>-1.180960</td>\n",
       "      <td>-0.385584</td>\n",
       "      <td>0.798260</td>\n",
       "    </tr>\n",
       "    <tr>\n",
       "      <th>3</th>\n",
       "      <td>-0.966886</td>\n",
       "      <td>1.047520</td>\n",
       "      <td>0.376289</td>\n",
       "      <td>1.831540</td>\n",
       "      <td>0.880569</td>\n",
       "      <td>-0.988829</td>\n",
       "      <td>-0.898007</td>\n",
       "      <td>0.568593</td>\n",
       "    </tr>\n",
       "    <tr>\n",
       "      <th>4</th>\n",
       "      <td>0.638344</td>\n",
       "      <td>0.233121</td>\n",
       "      <td>-0.364867</td>\n",
       "      <td>0.488917</td>\n",
       "      <td>0.164716</td>\n",
       "      <td>-0.011126</td>\n",
       "      <td>-0.961465</td>\n",
       "      <td>0.855677</td>\n",
       "    </tr>\n",
       "  </tbody>\n",
       "</table>\n",
       "</div>"
      ],
      "text/plain": [
       "     Cement      Slag   Fly ash     Water        SP  Coarse Aggr  Fine Aggr  \\\n",
       "0 -0.890447 -1.295950  1.188030 -1.450430  1.238500     1.876070  -0.818684   \n",
       "1  0.549165  0.066917 -0.517804  0.638098  0.164716     0.227616  -0.945600   \n",
       "2  0.941555 -1.292630  1.068030  1.950890 -0.085833    -1.180960  -0.385584   \n",
       "3 -0.966886  1.047520  0.376289  1.831540  0.880569    -0.988829  -0.898007   \n",
       "4  0.638344  0.233121 -0.364867  0.488917  0.164716    -0.011126  -0.961465   \n",
       "\n",
       "      Slump  \n",
       "0 -0.005574  \n",
       "1  0.568593  \n",
       "2  0.798260  \n",
       "3  0.568593  \n",
       "4  0.855677  "
      ]
     },
     "execution_count": 125,
     "metadata": {},
     "output_type": "execute_result"
    }
   ],
   "source": [
    "train_data.head()"
   ]
  },
  {
   "cell_type": "code",
   "execution_count": 129,
   "metadata": {},
   "outputs": [
    {
     "data": {
      "text/plain": [
       "['Cement', 'Slag', 'Fly ash', 'Water', 'SP', 'Coarse Aggr', 'Fine Aggr']"
      ]
     },
     "execution_count": 129,
     "metadata": {},
     "output_type": "execute_result"
    }
   ],
   "source": [
    "features"
   ]
  },
  {
   "cell_type": "code",
   "execution_count": 130,
   "metadata": {},
   "outputs": [
    {
     "data": {
      "text/plain": [
       "'Slump'"
      ]
     },
     "execution_count": 130,
     "metadata": {},
     "output_type": "execute_result"
    }
   ],
   "source": [
    "output"
   ]
  },
  {
   "cell_type": "code",
   "execution_count": null,
   "metadata": {},
   "outputs": [],
   "source": [
    "stoc_gradient_method(train_data, features, output, epsilon, t=0.01)"
   ]
  },
  {
   "cell_type": "code",
   "execution_count": null,
   "metadata": {},
   "outputs": [],
   "source": []
  },
  {
   "cell_type": "code",
   "execution_count": null,
   "metadata": {},
   "outputs": [],
   "source": []
  },
  {
   "cell_type": "code",
   "execution_count": null,
   "metadata": {},
   "outputs": [],
   "source": []
  },
  {
   "cell_type": "code",
   "execution_count": null,
   "metadata": {},
   "outputs": [],
   "source": []
  },
  {
   "cell_type": "code",
   "execution_count": null,
   "metadata": {},
   "outputs": [],
   "source": []
  },
  {
   "cell_type": "code",
   "execution_count": null,
   "metadata": {},
   "outputs": [],
   "source": []
  },
  {
   "cell_type": "code",
   "execution_count": null,
   "metadata": {},
   "outputs": [],
   "source": []
  },
  {
   "cell_type": "code",
   "execution_count": null,
   "metadata": {},
   "outputs": [],
   "source": []
  },
  {
   "cell_type": "code",
   "execution_count": null,
   "metadata": {},
   "outputs": [],
   "source": []
  },
  {
   "cell_type": "markdown",
   "metadata": {
    "toc-hr-collapsed": false
   },
   "source": [
    "---\n",
    "\n",
    "### C. Optimal weight vector with analytical form"
   ]
  },
  {
   "cell_type": "markdown",
   "metadata": {},
   "source": [
    "[6 points] We have discussed how to calculate the optimal weight vector with an\n",
    "analytical form. Please calculate the optimal weight vector in this way. Comparing with the weight vectors learned by batch gradient descent and stochastic\n",
    "gradient descent, what can you conclude? Why?\n"
   ]
  },
  {
   "cell_type": "code",
   "execution_count": null,
   "metadata": {},
   "outputs": [],
   "source": []
  },
  {
   "cell_type": "code",
   "execution_count": null,
   "metadata": {},
   "outputs": [],
   "source": []
  },
  {
   "cell_type": "code",
   "execution_count": null,
   "metadata": {},
   "outputs": [],
   "source": []
  },
  {
   "cell_type": "code",
   "execution_count": null,
   "metadata": {},
   "outputs": [],
   "source": []
  },
  {
   "cell_type": "code",
   "execution_count": null,
   "metadata": {},
   "outputs": [],
   "source": []
  },
  {
   "cell_type": "code",
   "execution_count": null,
   "metadata": {},
   "outputs": [],
   "source": []
  },
  {
   "cell_type": "code",
   "execution_count": null,
   "metadata": {},
   "outputs": [],
   "source": []
  }
 ],
 "metadata": {
  "kernelspec": {
   "display_name": "Python 3",
   "language": "python",
   "name": "python3"
  },
  "language_info": {
   "codemirror_mode": {
    "name": "ipython",
    "version": 3
   },
   "file_extension": ".py",
   "mimetype": "text/x-python",
   "name": "python",
   "nbconvert_exporter": "python",
   "pygments_lexer": "ipython3",
   "version": "3.6.6"
  }
 },
 "nbformat": 4,
 "nbformat_minor": 2
}
