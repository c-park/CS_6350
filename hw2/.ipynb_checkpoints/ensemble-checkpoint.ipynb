{
 "cells": [
  {
   "cell_type": "markdown",
   "metadata": {},
   "source": [
    "# 2.2.2 Ensemble Learning\n",
    "#### CS 6350: HW 2\n",
    "\n",
    "---"
   ]
  },
  {
   "cell_type": "markdown",
   "metadata": {},
   "source": [
    "[36 points] We will implement the boosting and bagging algorithms based on decision\n",
    "trees. Let us test them on the bank marketing dataset in HW1 (bank.zip in Canvas).\n",
    "We use the same approach to convert the numerical features into binary ones. That\n",
    "is, we choose the media (NOT the average) of the attribute values (in the training set)\n",
    "as the threshold, and examine if the feature is bigger (or less) than the threshold. For\n",
    "simplicity, we treat “unknown” as a particular attribute value, and hence we do not\n",
    "have any missing attributes for both training and test."
   ]
  },
  {
   "cell_type": "code",
   "execution_count": null,
   "metadata": {},
   "outputs": [],
   "source": [
    "from decision_tree import *"
   ]
  },
  {
   "cell_type": "code",
   "execution_count": null,
   "metadata": {},
   "outputs": [],
   "source": [
    "from tqdm import tqdm"
   ]
  },
  {
   "cell_type": "code",
   "execution_count": 3,
   "metadata": {},
   "outputs": [],
   "source": [
    "import numpy as np\n",
    "import matplotlib.pyplot as plt\n",
    "import pandas as pd"
   ]
  },
  {
   "cell_type": "code",
   "execution_count": 4,
   "metadata": {},
   "outputs": [],
   "source": [
    "%load_ext autoreload\n",
    "%autoreload 2"
   ]
  },
  {
   "cell_type": "code",
   "execution_count": null,
   "metadata": {},
   "outputs": [],
   "source": []
  },
  {
   "cell_type": "code",
   "execution_count": 5,
   "metadata": {},
   "outputs": [],
   "source": [
    "test_data = pd.read_csv('bank/test.csv', header=None)\n",
    "train_data = pd.read_csv('bank/train.csv', header=None)"
   ]
  },
  {
   "cell_type": "code",
   "execution_count": null,
   "metadata": {},
   "outputs": [],
   "source": []
  },
  {
   "cell_type": "code",
   "execution_count": 7,
   "metadata": {},
   "outputs": [],
   "source": [
    "data = train_data"
   ]
  },
  {
   "cell_type": "code",
   "execution_count": 8,
   "metadata": {},
   "outputs": [],
   "source": [
    "columns = ['age', 'job', 'marital', 'education', 'default', 'balance', 'housing', 'loan', 'contact', 'day', 'month', 'duration', 'campaign', 'pdays', 'previous', 'poutcome', 'y']\n",
    "\n",
    "train_data.columns = columns\n",
    "test_data.columns = columns"
   ]
  },
  {
   "cell_type": "code",
   "execution_count": 9,
   "metadata": {},
   "outputs": [
    {
     "data": {
      "text/html": [
       "<div>\n",
       "<style scoped>\n",
       "    .dataframe tbody tr th:only-of-type {\n",
       "        vertical-align: middle;\n",
       "    }\n",
       "\n",
       "    .dataframe tbody tr th {\n",
       "        vertical-align: top;\n",
       "    }\n",
       "\n",
       "    .dataframe thead th {\n",
       "        text-align: right;\n",
       "    }\n",
       "</style>\n",
       "<table border=\"1\" class=\"dataframe\">\n",
       "  <thead>\n",
       "    <tr style=\"text-align: right;\">\n",
       "      <th></th>\n",
       "      <th>age</th>\n",
       "      <th>job</th>\n",
       "      <th>marital</th>\n",
       "      <th>education</th>\n",
       "      <th>default</th>\n",
       "      <th>balance</th>\n",
       "      <th>housing</th>\n",
       "      <th>loan</th>\n",
       "      <th>contact</th>\n",
       "      <th>day</th>\n",
       "      <th>month</th>\n",
       "      <th>duration</th>\n",
       "      <th>campaign</th>\n",
       "      <th>pdays</th>\n",
       "      <th>previous</th>\n",
       "      <th>poutcome</th>\n",
       "      <th>y</th>\n",
       "    </tr>\n",
       "  </thead>\n",
       "  <tbody>\n",
       "    <tr>\n",
       "      <th>0</th>\n",
       "      <td>41</td>\n",
       "      <td>services</td>\n",
       "      <td>married</td>\n",
       "      <td>secondary</td>\n",
       "      <td>no</td>\n",
       "      <td>0</td>\n",
       "      <td>yes</td>\n",
       "      <td>no</td>\n",
       "      <td>unknown</td>\n",
       "      <td>5</td>\n",
       "      <td>may</td>\n",
       "      <td>114</td>\n",
       "      <td>2</td>\n",
       "      <td>-1</td>\n",
       "      <td>0</td>\n",
       "      <td>unknown</td>\n",
       "      <td>no</td>\n",
       "    </tr>\n",
       "    <tr>\n",
       "      <th>1</th>\n",
       "      <td>48</td>\n",
       "      <td>blue-collar</td>\n",
       "      <td>single</td>\n",
       "      <td>secondary</td>\n",
       "      <td>no</td>\n",
       "      <td>312</td>\n",
       "      <td>yes</td>\n",
       "      <td>yes</td>\n",
       "      <td>cellular</td>\n",
       "      <td>3</td>\n",
       "      <td>feb</td>\n",
       "      <td>369</td>\n",
       "      <td>2</td>\n",
       "      <td>-1</td>\n",
       "      <td>0</td>\n",
       "      <td>unknown</td>\n",
       "      <td>no</td>\n",
       "    </tr>\n",
       "    <tr>\n",
       "      <th>2</th>\n",
       "      <td>55</td>\n",
       "      <td>technician</td>\n",
       "      <td>married</td>\n",
       "      <td>secondary</td>\n",
       "      <td>no</td>\n",
       "      <td>1938</td>\n",
       "      <td>no</td>\n",
       "      <td>yes</td>\n",
       "      <td>cellular</td>\n",
       "      <td>18</td>\n",
       "      <td>aug</td>\n",
       "      <td>193</td>\n",
       "      <td>1</td>\n",
       "      <td>386</td>\n",
       "      <td>3</td>\n",
       "      <td>success</td>\n",
       "      <td>yes</td>\n",
       "    </tr>\n",
       "    <tr>\n",
       "      <th>3</th>\n",
       "      <td>54</td>\n",
       "      <td>admin.</td>\n",
       "      <td>married</td>\n",
       "      <td>tertiary</td>\n",
       "      <td>no</td>\n",
       "      <td>59</td>\n",
       "      <td>yes</td>\n",
       "      <td>no</td>\n",
       "      <td>cellular</td>\n",
       "      <td>10</td>\n",
       "      <td>jul</td>\n",
       "      <td>268</td>\n",
       "      <td>1</td>\n",
       "      <td>-1</td>\n",
       "      <td>0</td>\n",
       "      <td>unknown</td>\n",
       "      <td>no</td>\n",
       "    </tr>\n",
       "    <tr>\n",
       "      <th>4</th>\n",
       "      <td>34</td>\n",
       "      <td>management</td>\n",
       "      <td>single</td>\n",
       "      <td>tertiary</td>\n",
       "      <td>no</td>\n",
       "      <td>2646</td>\n",
       "      <td>no</td>\n",
       "      <td>no</td>\n",
       "      <td>cellular</td>\n",
       "      <td>14</td>\n",
       "      <td>apr</td>\n",
       "      <td>142</td>\n",
       "      <td>1</td>\n",
       "      <td>-1</td>\n",
       "      <td>0</td>\n",
       "      <td>unknown</td>\n",
       "      <td>yes</td>\n",
       "    </tr>\n",
       "  </tbody>\n",
       "</table>\n",
       "</div>"
      ],
      "text/plain": [
       "   age          job  marital  education default  balance housing loan  \\\n",
       "0   41     services  married  secondary      no        0     yes   no   \n",
       "1   48  blue-collar   single  secondary      no      312     yes  yes   \n",
       "2   55   technician  married  secondary      no     1938      no  yes   \n",
       "3   54       admin.  married   tertiary      no       59     yes   no   \n",
       "4   34   management   single   tertiary      no     2646      no   no   \n",
       "\n",
       "    contact  day month  duration  campaign  pdays  previous poutcome    y  \n",
       "0   unknown    5   may       114         2     -1         0  unknown   no  \n",
       "1  cellular    3   feb       369         2     -1         0  unknown   no  \n",
       "2  cellular   18   aug       193         1    386         3  success  yes  \n",
       "3  cellular   10   jul       268         1     -1         0  unknown   no  \n",
       "4  cellular   14   apr       142         1     -1         0  unknown  yes  "
      ]
     },
     "execution_count": 9,
     "metadata": {},
     "output_type": "execute_result"
    }
   ],
   "source": [
    "train_data.head()"
   ]
  },
  {
   "cell_type": "code",
   "execution_count": null,
   "metadata": {},
   "outputs": [],
   "source": []
  },
  {
   "cell_type": "code",
   "execution_count": 11,
   "metadata": {},
   "outputs": [],
   "source": [
    "num_2_binary(train_data)\n",
    "num_2_binary(test_data)"
   ]
  },
  {
   "cell_type": "code",
   "execution_count": 12,
   "metadata": {},
   "outputs": [
    {
     "data": {
      "text/html": [
       "<div>\n",
       "<style scoped>\n",
       "    .dataframe tbody tr th:only-of-type {\n",
       "        vertical-align: middle;\n",
       "    }\n",
       "\n",
       "    .dataframe tbody tr th {\n",
       "        vertical-align: top;\n",
       "    }\n",
       "\n",
       "    .dataframe thead th {\n",
       "        text-align: right;\n",
       "    }\n",
       "</style>\n",
       "<table border=\"1\" class=\"dataframe\">\n",
       "  <thead>\n",
       "    <tr style=\"text-align: right;\">\n",
       "      <th></th>\n",
       "      <th>age</th>\n",
       "      <th>job</th>\n",
       "      <th>marital</th>\n",
       "      <th>education</th>\n",
       "      <th>default</th>\n",
       "      <th>balance</th>\n",
       "      <th>housing</th>\n",
       "      <th>loan</th>\n",
       "      <th>contact</th>\n",
       "      <th>day</th>\n",
       "      <th>month</th>\n",
       "      <th>duration</th>\n",
       "      <th>campaign</th>\n",
       "      <th>pdays</th>\n",
       "      <th>previous</th>\n",
       "      <th>poutcome</th>\n",
       "      <th>y</th>\n",
       "    </tr>\n",
       "  </thead>\n",
       "  <tbody>\n",
       "    <tr>\n",
       "      <th>0</th>\n",
       "      <td>True</td>\n",
       "      <td>services</td>\n",
       "      <td>married</td>\n",
       "      <td>secondary</td>\n",
       "      <td>no</td>\n",
       "      <td>False</td>\n",
       "      <td>yes</td>\n",
       "      <td>no</td>\n",
       "      <td>unknown</td>\n",
       "      <td>False</td>\n",
       "      <td>may</td>\n",
       "      <td>False</td>\n",
       "      <td>True</td>\n",
       "      <td>True</td>\n",
       "      <td>True</td>\n",
       "      <td>unknown</td>\n",
       "      <td>no</td>\n",
       "    </tr>\n",
       "    <tr>\n",
       "      <th>1</th>\n",
       "      <td>True</td>\n",
       "      <td>blue-collar</td>\n",
       "      <td>single</td>\n",
       "      <td>secondary</td>\n",
       "      <td>no</td>\n",
       "      <td>False</td>\n",
       "      <td>yes</td>\n",
       "      <td>yes</td>\n",
       "      <td>cellular</td>\n",
       "      <td>False</td>\n",
       "      <td>feb</td>\n",
       "      <td>True</td>\n",
       "      <td>True</td>\n",
       "      <td>True</td>\n",
       "      <td>True</td>\n",
       "      <td>unknown</td>\n",
       "      <td>no</td>\n",
       "    </tr>\n",
       "    <tr>\n",
       "      <th>2</th>\n",
       "      <td>True</td>\n",
       "      <td>technician</td>\n",
       "      <td>married</td>\n",
       "      <td>secondary</td>\n",
       "      <td>no</td>\n",
       "      <td>True</td>\n",
       "      <td>no</td>\n",
       "      <td>yes</td>\n",
       "      <td>cellular</td>\n",
       "      <td>True</td>\n",
       "      <td>aug</td>\n",
       "      <td>True</td>\n",
       "      <td>False</td>\n",
       "      <td>True</td>\n",
       "      <td>True</td>\n",
       "      <td>success</td>\n",
       "      <td>yes</td>\n",
       "    </tr>\n",
       "    <tr>\n",
       "      <th>3</th>\n",
       "      <td>True</td>\n",
       "      <td>admin.</td>\n",
       "      <td>married</td>\n",
       "      <td>tertiary</td>\n",
       "      <td>no</td>\n",
       "      <td>False</td>\n",
       "      <td>yes</td>\n",
       "      <td>no</td>\n",
       "      <td>cellular</td>\n",
       "      <td>False</td>\n",
       "      <td>jul</td>\n",
       "      <td>True</td>\n",
       "      <td>False</td>\n",
       "      <td>True</td>\n",
       "      <td>True</td>\n",
       "      <td>unknown</td>\n",
       "      <td>no</td>\n",
       "    </tr>\n",
       "    <tr>\n",
       "      <th>4</th>\n",
       "      <td>False</td>\n",
       "      <td>management</td>\n",
       "      <td>single</td>\n",
       "      <td>tertiary</td>\n",
       "      <td>no</td>\n",
       "      <td>True</td>\n",
       "      <td>no</td>\n",
       "      <td>no</td>\n",
       "      <td>cellular</td>\n",
       "      <td>False</td>\n",
       "      <td>apr</td>\n",
       "      <td>False</td>\n",
       "      <td>False</td>\n",
       "      <td>True</td>\n",
       "      <td>True</td>\n",
       "      <td>unknown</td>\n",
       "      <td>yes</td>\n",
       "    </tr>\n",
       "  </tbody>\n",
       "</table>\n",
       "</div>"
      ],
      "text/plain": [
       "     age          job  marital  education default  balance housing loan  \\\n",
       "0   True     services  married  secondary      no    False     yes   no   \n",
       "1   True  blue-collar   single  secondary      no    False     yes  yes   \n",
       "2   True   technician  married  secondary      no     True      no  yes   \n",
       "3   True       admin.  married   tertiary      no    False     yes   no   \n",
       "4  False   management   single   tertiary      no     True      no   no   \n",
       "\n",
       "    contact    day month  duration  campaign  pdays  previous poutcome    y  \n",
       "0   unknown  False   may     False      True   True      True  unknown   no  \n",
       "1  cellular  False   feb      True      True   True      True  unknown   no  \n",
       "2  cellular   True   aug      True     False   True      True  success  yes  \n",
       "3  cellular  False   jul      True     False   True      True  unknown   no  \n",
       "4  cellular  False   apr     False     False   True      True  unknown  yes  "
      ]
     },
     "execution_count": 12,
     "metadata": {},
     "output_type": "execute_result"
    }
   ],
   "source": [
    "train_data.head()"
   ]
  },
  {
   "cell_type": "code",
   "execution_count": 13,
   "metadata": {},
   "outputs": [
    {
     "data": {
      "text/html": [
       "<div>\n",
       "<style scoped>\n",
       "    .dataframe tbody tr th:only-of-type {\n",
       "        vertical-align: middle;\n",
       "    }\n",
       "\n",
       "    .dataframe tbody tr th {\n",
       "        vertical-align: top;\n",
       "    }\n",
       "\n",
       "    .dataframe thead th {\n",
       "        text-align: right;\n",
       "    }\n",
       "</style>\n",
       "<table border=\"1\" class=\"dataframe\">\n",
       "  <thead>\n",
       "    <tr style=\"text-align: right;\">\n",
       "      <th></th>\n",
       "      <th>age</th>\n",
       "      <th>job</th>\n",
       "      <th>marital</th>\n",
       "      <th>education</th>\n",
       "      <th>default</th>\n",
       "      <th>balance</th>\n",
       "      <th>housing</th>\n",
       "      <th>loan</th>\n",
       "      <th>contact</th>\n",
       "      <th>day</th>\n",
       "      <th>month</th>\n",
       "      <th>duration</th>\n",
       "      <th>campaign</th>\n",
       "      <th>pdays</th>\n",
       "      <th>previous</th>\n",
       "      <th>poutcome</th>\n",
       "      <th>y</th>\n",
       "    </tr>\n",
       "  </thead>\n",
       "  <tbody>\n",
       "    <tr>\n",
       "      <th>0</th>\n",
       "      <td>True</td>\n",
       "      <td>management</td>\n",
       "      <td>single</td>\n",
       "      <td>secondary</td>\n",
       "      <td>no</td>\n",
       "      <td>True</td>\n",
       "      <td>no</td>\n",
       "      <td>no</td>\n",
       "      <td>cellular</td>\n",
       "      <td>False</td>\n",
       "      <td>jun</td>\n",
       "      <td>True</td>\n",
       "      <td>True</td>\n",
       "      <td>True</td>\n",
       "      <td>True</td>\n",
       "      <td>unknown</td>\n",
       "      <td>no</td>\n",
       "    </tr>\n",
       "    <tr>\n",
       "      <th>1</th>\n",
       "      <td>True</td>\n",
       "      <td>blue-collar</td>\n",
       "      <td>married</td>\n",
       "      <td>secondary</td>\n",
       "      <td>no</td>\n",
       "      <td>False</td>\n",
       "      <td>yes</td>\n",
       "      <td>no</td>\n",
       "      <td>cellular</td>\n",
       "      <td>False</td>\n",
       "      <td>may</td>\n",
       "      <td>True</td>\n",
       "      <td>False</td>\n",
       "      <td>True</td>\n",
       "      <td>True</td>\n",
       "      <td>failure</td>\n",
       "      <td>no</td>\n",
       "    </tr>\n",
       "    <tr>\n",
       "      <th>2</th>\n",
       "      <td>True</td>\n",
       "      <td>retired</td>\n",
       "      <td>married</td>\n",
       "      <td>primary</td>\n",
       "      <td>no</td>\n",
       "      <td>False</td>\n",
       "      <td>no</td>\n",
       "      <td>no</td>\n",
       "      <td>telephone</td>\n",
       "      <td>True</td>\n",
       "      <td>jul</td>\n",
       "      <td>False</td>\n",
       "      <td>True</td>\n",
       "      <td>True</td>\n",
       "      <td>True</td>\n",
       "      <td>unknown</td>\n",
       "      <td>no</td>\n",
       "    </tr>\n",
       "    <tr>\n",
       "      <th>3</th>\n",
       "      <td>False</td>\n",
       "      <td>entrepreneur</td>\n",
       "      <td>single</td>\n",
       "      <td>tertiary</td>\n",
       "      <td>no</td>\n",
       "      <td>False</td>\n",
       "      <td>yes</td>\n",
       "      <td>yes</td>\n",
       "      <td>unknown</td>\n",
       "      <td>False</td>\n",
       "      <td>jun</td>\n",
       "      <td>True</td>\n",
       "      <td>False</td>\n",
       "      <td>True</td>\n",
       "      <td>True</td>\n",
       "      <td>unknown</td>\n",
       "      <td>no</td>\n",
       "    </tr>\n",
       "    <tr>\n",
       "      <th>4</th>\n",
       "      <td>False</td>\n",
       "      <td>student</td>\n",
       "      <td>single</td>\n",
       "      <td>unknown</td>\n",
       "      <td>no</td>\n",
       "      <td>True</td>\n",
       "      <td>no</td>\n",
       "      <td>no</td>\n",
       "      <td>telephone</td>\n",
       "      <td>True</td>\n",
       "      <td>jan</td>\n",
       "      <td>False</td>\n",
       "      <td>True</td>\n",
       "      <td>True</td>\n",
       "      <td>True</td>\n",
       "      <td>unknown</td>\n",
       "      <td>no</td>\n",
       "    </tr>\n",
       "  </tbody>\n",
       "</table>\n",
       "</div>"
      ],
      "text/plain": [
       "     age           job  marital  education default  balance housing loan  \\\n",
       "0   True    management   single  secondary      no     True      no   no   \n",
       "1   True   blue-collar  married  secondary      no    False     yes   no   \n",
       "2   True       retired  married    primary      no    False      no   no   \n",
       "3  False  entrepreneur   single   tertiary      no    False     yes  yes   \n",
       "4  False       student   single    unknown      no     True      no   no   \n",
       "\n",
       "     contact    day month  duration  campaign  pdays  previous poutcome   y  \n",
       "0   cellular  False   jun      True      True   True      True  unknown  no  \n",
       "1   cellular  False   may      True     False   True      True  failure  no  \n",
       "2  telephone   True   jul     False      True   True      True  unknown  no  \n",
       "3    unknown  False   jun      True     False   True      True  unknown  no  \n",
       "4  telephone   True   jan     False      True   True      True  unknown  no  "
      ]
     },
     "execution_count": 13,
     "metadata": {},
     "output_type": "execute_result"
    }
   ],
   "source": [
    "test_data.head()"
   ]
  },
  {
   "cell_type": "code",
   "execution_count": null,
   "metadata": {},
   "outputs": [],
   "source": []
  },
  {
   "cell_type": "code",
   "execution_count": null,
   "metadata": {},
   "outputs": [],
   "source": []
  },
  {
   "cell_type": "markdown",
   "metadata": {},
   "source": [
    "---\n",
    "\n",
    "### A. decision stumps"
   ]
  },
  {
   "cell_type": "markdown",
   "metadata": {},
   "source": [
    "[8 points] Modify your decision tree learning algorithm to learn decision stumps\n",
    "— trees with only two levels. Specifically, compute the information gain to select\n",
    "the best feature to split the data. Then for each subset, create a leaf node. Note\n",
    "that your decision stumps must support weighted training examples. Based on\n",
    "your decision stump learning algorithm, implement AdaBoost algorithm. Vary\n",
    "the number of iterations T from 1 to 1000, and examine the training and test\n",
    "errors. You should report the results in two figures. The first figure shows how the\n",
    "training and test errors vary along with T. The second figure shows the training\n",
    "and test errors of all the decision stumps learned in each iteration. What can you\n",
    "observe and conclude? You have had the results for a fully expanded decision tree\n",
    "in HW1. Comparing them with Adaboost, what can you observe and conclude?"
   ]
  },
  {
   "cell_type": "code",
   "execution_count": null,
   "metadata": {},
   "outputs": [],
   "source": []
  },
  {
   "cell_type": "code",
   "execution_count": null,
   "metadata": {},
   "outputs": [],
   "source": []
  },
  {
   "cell_type": "code",
   "execution_count": null,
   "metadata": {},
   "outputs": [],
   "source": [
    "def ada_boost(train_data, test_data, max_iter=5):\n",
    "    \n",
    "    # keep track of alphas and hypotheses\n",
    "    alphas = []\n",
    "    trees = []\n",
    "    \n",
    "    attrs = list(train_data.columns.values)[:-1]\n",
    "    label = list(train_data.columns.values)[-1]\n",
    "    \n",
    "    M_train,N_train = train_data.shape\n",
    "    M_test, N_test = test_data.shape\n",
    "    \n",
    "    # initialize weights, D_1\n",
    "    weights = np.ones(M_train)/M_train\n",
    "    \n",
    "    # initialize hypotheses, one each for training and testing data\n",
    "    h_train = np.zeros(M_train)\n",
    "    h_test = np.zeros(M_test)\n",
    "    \n",
    "    \n",
    "    for t in tqdm(range(max_iter)):\n",
    "        print('')\n",
    "        print('iter: {}'.format(t))\n",
    "        # Train weak learner using training data weighted according to D_t\n",
    "        tree = id3(train_data, train_data, attrs, label, gain_method=entropy, parent_label=None, weights=weights, current_depth=0, max_depth=2)\n",
    "        # get weak hypothesis\n",
    "        h = weak_hypothesis(tree, train_data)\n",
    "        h_t = np.array(list(map(lambda x: 1 if x else -1, h)))\n",
    "        \n",
    "        # convert \"yes\" and \"no\" to 1 and -1 respectively in 'y' column\n",
    "        y = np.array(list(map(lambda x: 1 if x=='yes' else -1, train_data['y'].tolist())))\n",
    "        \n",
    "        # calculate error w.r.t. D_t\n",
    "        error_t = np.sum((h_t != y) * weights)\n",
    "        print('error check: {}'.format(error_t))\n",
    "        \n",
    "        if error_t > 0.5:\n",
    "            invert = -1\n",
    "            error_t = 1 - error_t\n",
    "            #weights = - weights\n",
    "            #tree = id3(train_data, train_data, attrs, label, gain_method=entropy, parent_label=None, weights=weights, current_depth=0, max_depth=2)\n",
    "            #h = weak_hypothesis(tree, train_data)\n",
    "            #h_t = np.array(list(map(lambda x: 1 if x else -1, h)))\n",
    "            #error_t = np.sum((h_t != y) * weights)\n",
    "        else:\n",
    "            invert = 1\n",
    "        \n",
    "        # get alpha\n",
    "        alpha_t = 0.5*invert*np.log((1-error_t)/float(error_t))\n",
    "        \n",
    "        print('error {}: {}'.format(t,error_t))\n",
    "        print('alpha {}: {}'.format(t,alpha_t))\n",
    "        \n",
    "        alphas.append(alpha_t)\n",
    "        trees.append(tree)\n",
    "        \n",
    "        # update weights\n",
    "        weights = weights*np.exp(-alpha_t*y*h_t)\n",
    "        weights = weights / np.sum(weights)\n",
    "        \n",
    "        #print('weights {}: {}'.format(t,weights))\n",
    "        #print('weight avg: {}'.format(np.mean(weights)))\n",
    "\n",
    "    # final classifier is summation of alphas and hypotheses\n",
    "    #H = np.sign(np.sum(np.array(alphas)*np.array(hypos), axis=1))\n",
    "    \n",
    "    return alphas, trees"
   ]
  },
  {
   "cell_type": "code",
   "execution_count": 15,
   "metadata": {},
   "outputs": [],
   "source": [
    "def weak_hypothesis(tree, data):\n",
    "    N = data.shape[0]\n",
    "    h = np.zeros(N)\n",
    "    \n",
    "    for i in range(N):\n",
    "        h[i] = predict_label(data.iloc[i],tree,'y')\n",
    "    \n",
    "    return h"
   ]
  },
  {
   "cell_type": "code",
   "execution_count": 16,
   "metadata": {},
   "outputs": [],
   "source": [
    "def evaluate_ada(alphas, trees, train_data, test_data):\n",
    "    \n",
    "    train_error = []\n",
    "    test_error = []\n",
    "    \n",
    "    n_train = train_data.shape[0]\n",
    "    n_test = test_data.shape[0]\n",
    "    \n",
    "    max_iter = len(alphas)\n",
    "    \n",
    "    for t in tqdm(range(max_iter)):\n",
    "        train_sum = np.zeros(n_train)\n",
    "        test_sum = np.zeros(n_test)\n",
    "        \n",
    "        for i in range(t):\n",
    "            a_t = alphas[i]\n",
    "            tree = trees[i]\n",
    "            h_train = np.array(list(map(lambda x: 1 if x else -1, weak_hypothesis(tree, train_data))))\n",
    "            h_test = np.array(list(map(lambda x: 1 if x else -1, weak_hypothesis(tree, test_data))))\n",
    "            train_sum += (a_t*h_train)\n",
    "            test_sum += (a_t*h_test)\n",
    "            \n",
    "        #print('t={}'.format(t))\n",
    "        #print('train_sum: {}'.format(train_sum))\n",
    "        #print('train_sum avg: {}'.format(np.mean(train_sum)))\n",
    "        #print('test_sum: {}'.format(test_sum))\n",
    "            \n",
    "        train_final = np.sign(train_sum)\n",
    "        test_final = np.sign(test_sum)\n",
    "        \n",
    "        #print('train_final: {}'.format(train_final))\n",
    "        #print('train_final avg: {}'.format(np.mean(train_final)))\n",
    "        #print('test_final avg: {}'.format(np.mean(test_final)))\n",
    "        \n",
    "        y_train = np.array(list(map(lambda x: 1 if x=='yes' else -1, train_data['y'].tolist())))\n",
    "        y_test = np.array(list(map(lambda x: 1 if x=='yes' else -1, test_data['y'].tolist())))\n",
    "        \n",
    "        train_error.append(np.sum(train_final != y_train)/n_train)\n",
    "        test_error.append(np.sum(test_final != y_test)/n_test)\n",
    "        \n",
    "    return train_error, test_error\n",
    "            "
   ]
  },
  {
   "cell_type": "code",
   "execution_count": null,
   "metadata": {},
   "outputs": [],
   "source": [
    "a = np.zeros(10)\n",
    "a += 1\n",
    "a"
   ]
  },
  {
   "cell_type": "code",
   "execution_count": 24,
   "metadata": {},
   "outputs": [],
   "source": [
    "weights = np.ones(10)/10"
   ]
  },
  {
   "cell_type": "code",
   "execution_count": 25,
   "metadata": {},
   "outputs": [
    {
     "data": {
      "text/plain": [
       "array([0.1, 0.1, 0.1, 0.1, 0.1, 0.1, 0.1, 0.1, 0.1, 0.1])"
      ]
     },
     "execution_count": 25,
     "metadata": {},
     "output_type": "execute_result"
    }
   ],
   "source": [
    "weights"
   ]
  },
  {
   "cell_type": "code",
   "execution_count": null,
   "metadata": {},
   "outputs": [],
   "source": []
  },
  {
   "cell_type": "code",
   "execution_count": 38,
   "metadata": {},
   "outputs": [],
   "source": [
    "h = np.array([1,1,1,1,1,0,0,0,0,0])\n",
    "y = np.array([1,1,1,0,0,0,0,0,0,0])"
   ]
  },
  {
   "cell_type": "code",
   "execution_count": 40,
   "metadata": {},
   "outputs": [
    {
     "data": {
      "text/plain": [
       "0.2"
      ]
     },
     "execution_count": 40,
     "metadata": {},
     "output_type": "execute_result"
    }
   ],
   "source": [
    "np.sum((h != y) * weights)"
   ]
  },
  {
   "cell_type": "code",
   "execution_count": 33,
   "metadata": {},
   "outputs": [
    {
     "data": {
      "text/plain": [
       "0.5"
      ]
     },
     "execution_count": 33,
     "metadata": {},
     "output_type": "execute_result"
    }
   ],
   "source": [
    "np.sum(weights[h>0])"
   ]
  },
  {
   "cell_type": "code",
   "execution_count": null,
   "metadata": {},
   "outputs": [],
   "source": []
  },
  {
   "cell_type": "code",
   "execution_count": null,
   "metadata": {},
   "outputs": [],
   "source": []
  },
  {
   "cell_type": "code",
   "execution_count": null,
   "metadata": {},
   "outputs": [],
   "source": [
    "alphas, trees = ada_boost(train_data, test_data, max_iter=10)"
   ]
  },
  {
   "cell_type": "code",
   "execution_count": 19,
   "metadata": {},
   "outputs": [
    {
     "data": {
      "text/plain": [
       "100"
      ]
     },
     "execution_count": 19,
     "metadata": {},
     "output_type": "execute_result"
    }
   ],
   "source": [
    "len(alphas)"
   ]
  },
  {
   "cell_type": "code",
   "execution_count": 21,
   "metadata": {},
   "outputs": [
    {
     "data": {
      "text/plain": [
       "[-1.03423174965567,\n",
       " -0.8925553183492212,\n",
       " -0.600966803750434,\n",
       " -0.4389022937824763,\n",
       " -0.3754372531394833,\n",
       " -0.3475373738148354,\n",
       " -0.3341675807703123,\n",
       " -0.3274617256186652,\n",
       " -0.3240178482884625,\n",
       " -0.3222273035775794,\n",
       " -0.32129034781518534,\n",
       " -0.32079839776804137,\n",
       " -0.3205396390644531,\n",
       " -0.32040340824983193,\n",
       " -0.3203316503349868,\n",
       " -0.3202938429140946,\n",
       " -0.3202739204191803,\n",
       " -0.3202634215695391,\n",
       " -0.32025788862633137,\n",
       " -0.32025497268079905,\n",
       " -0.32025343591676925,\n",
       " -0.3202526260056122,\n",
       " -0.3202521991619368,\n",
       " -0.32025197420417145,\n",
       " -0.3202518556454566,\n",
       " -0.3202517931618389,\n",
       " -0.32025176023129337,\n",
       " -0.3202517428760067,\n",
       " -0.32025173372930216,\n",
       " -0.3202517289087422,\n",
       " -0.32025172636817767,\n",
       " -0.3202517250292304,\n",
       " -0.3202517243235707,\n",
       " -0.3202517239516668,\n",
       " -0.3202517237556646,\n",
       " -0.3202517236523659,\n",
       " -0.3202517235979247,\n",
       " -0.3202517235692326,\n",
       " -0.3202517235541111,\n",
       " -0.3202517235461421,\n",
       " -0.320251723541942,\n",
       " -0.3202517235397283,\n",
       " -0.3202517235385617,\n",
       " -0.32025172353794645,\n",
       " -0.320251723537623,\n",
       " -0.32025172353745207,\n",
       " -0.3202517235373617,\n",
       " -0.320251723537315,\n",
       " -0.320251723537289,\n",
       " -0.3202517235372757,\n",
       " -0.3202517235372696,\n",
       " -0.32025172353726594,\n",
       " -0.320251723537263,\n",
       " -0.320251723537263,\n",
       " -0.32025172353726195,\n",
       " -0.3202517235372615,\n",
       " -0.32025172353726195,\n",
       " -0.32025172353726195,\n",
       " -0.32025172353726195,\n",
       " -0.3202517235372617,\n",
       " -0.3202517235372617,\n",
       " -0.3202517235372617,\n",
       " -0.20642260770289356,\n",
       " -0.2417133247889382,\n",
       " -0.27209513994350576,\n",
       " -0.2949181023620614,\n",
       " -0.3100541802636461,\n",
       " -0.3191668293392019,\n",
       " -0.3243066295646825,\n",
       " -0.32709308061779135,\n",
       " -0.32857020864261816,\n",
       " -0.329343769927516,\n",
       " -0.32974626829209175,\n",
       " -0.32995498761092856,\n",
       " -0.3300630303675841,\n",
       " -0.330118907182438,\n",
       " -0.33014779149901435,\n",
       " -0.3301627189705363,\n",
       " -0.3301704325410911,\n",
       " -0.3301744181645155,\n",
       " -0.33017647747767365,\n",
       " -0.3301775414759967,\n",
       " -0.3301780912137652,\n",
       " -0.33017837524636046,\n",
       " -0.3301785219969127,\n",
       " -0.33017859781813225,\n",
       " -0.33017863699245564,\n",
       " -0.3301786572325301,\n",
       " -0.33017866768990395,\n",
       " -0.3301786730928813,\n",
       " -0.33017867588441924,\n",
       " -0.33017867732671413,\n",
       " -0.33017867807189943,\n",
       " -0.33017867845691196,\n",
       " -0.3301786786558352,\n",
       " -0.33017867875861256,\n",
       " -0.33017867881171387,\n",
       " -0.33017867883914936,\n",
       " -0.33017867885332436,\n",
       " -0.3301786788606484]"
      ]
     },
     "execution_count": 21,
     "metadata": {},
     "output_type": "execute_result"
    }
   ],
   "source": [
    "alphas"
   ]
  },
  {
   "cell_type": "code",
   "execution_count": 20,
   "metadata": {},
   "outputs": [
    {
     "data": {
      "image/png": "[encoded data removed]",
      "text/plain": [
       "<Figure size 432x288 with 1 Axes>"
      ]
     },
     "metadata": {
      "needs_background": "light"
     },
     "output_type": "display_data"
    }
   ],
   "source": [
    "plt.figure()\n",
    "plt.plot(range(100), alphas)\n",
    "plt.title(\"Alphas as a funtion of t\")\n",
    "plt.show()"
   ]
  },
  {
   "cell_type": "code",
   "execution_count": null,
   "metadata": {},
   "outputs": [],
   "source": [
    "len(trees)"
   ]
  },
  {
   "cell_type": "code",
   "execution_count": 18,
   "metadata": {},
   "outputs": [
    {
     "name": "stderr",
     "output_type": "stream",
     "text": [
      "100%|█████████████████████████████████████████████████████████████████████████████| 100/100 [2:09:54<00:00, 158.15s/it]\n"
     ]
    },
    {
     "data": {
      "text/plain": [
       "([1.0,\n",
       "  0.0226,\n",
       "  0.0226,\n",
       "  0.0226,\n",
       "  0.0226,\n",
       "  0.0226,\n",
       "  0.0226,\n",
       "  0.0226,\n",
       "  0.0226,\n",
       "  0.0226,\n",
       "  0.0226,\n",
       "  0.0226,\n",
       "  0.0226,\n",
       "  0.0226,\n",
       "  0.0226,\n",
       "  0.0226,\n",
       "  0.0226,\n",
       "  0.0226,\n",
       "  0.0226,\n",
       "  0.0226,\n",
       "  0.0226,\n",
       "  0.0226,\n",
       "  0.0226,\n",
       "  0.0226,\n",
       "  0.0226,\n",
       "  0.0226,\n",
       "  0.0226,\n",
       "  0.0226,\n",
       "  0.0226,\n",
       "  0.0226,\n",
       "  0.0226,\n",
       "  0.0226,\n",
       "  0.0226,\n",
       "  0.0226,\n",
       "  0.0226,\n",
       "  0.0226,\n",
       "  0.0226,\n",
       "  0.0226,\n",
       "  0.0226,\n",
       "  0.0226,\n",
       "  0.0226,\n",
       "  0.0226,\n",
       "  0.0226,\n",
       "  0.0226,\n",
       "  0.0226,\n",
       "  0.0226,\n",
       "  0.0226,\n",
       "  0.0226,\n",
       "  0.0226,\n",
       "  0.0226,\n",
       "  0.0226,\n",
       "  0.0226,\n",
       "  0.0226,\n",
       "  0.0226,\n",
       "  0.0226,\n",
       "  0.0226,\n",
       "  0.0226,\n",
       "  0.0226,\n",
       "  0.0226,\n",
       "  0.0226,\n",
       "  0.0226,\n",
       "  0.0226,\n",
       "  0.0226,\n",
       "  0.0226,\n",
       "  0.0226,\n",
       "  0.0226,\n",
       "  0.0226,\n",
       "  0.0226,\n",
       "  0.0226,\n",
       "  0.0226,\n",
       "  0.0226,\n",
       "  0.0226,\n",
       "  0.0226,\n",
       "  0.0226,\n",
       "  0.0226,\n",
       "  0.0226,\n",
       "  0.0226,\n",
       "  0.0226,\n",
       "  0.0226,\n",
       "  0.0226,\n",
       "  0.0226,\n",
       "  0.0226,\n",
       "  0.0226,\n",
       "  0.0226,\n",
       "  0.0226,\n",
       "  0.0226,\n",
       "  0.0226,\n",
       "  0.0226,\n",
       "  0.0226,\n",
       "  0.0226,\n",
       "  0.0226,\n",
       "  0.0226,\n",
       "  0.0226,\n",
       "  0.0226,\n",
       "  0.0226,\n",
       "  0.0226,\n",
       "  0.0226,\n",
       "  0.0226,\n",
       "  0.0226,\n",
       "  0.0226],\n",
       " [1.0,\n",
       "  0.023,\n",
       "  0.023,\n",
       "  0.023,\n",
       "  0.023,\n",
       "  0.023,\n",
       "  0.023,\n",
       "  0.023,\n",
       "  0.023,\n",
       "  0.023,\n",
       "  0.023,\n",
       "  0.023,\n",
       "  0.023,\n",
       "  0.023,\n",
       "  0.023,\n",
       "  0.023,\n",
       "  0.023,\n",
       "  0.023,\n",
       "  0.023,\n",
       "  0.023,\n",
       "  0.023,\n",
       "  0.023,\n",
       "  0.023,\n",
       "  0.023,\n",
       "  0.023,\n",
       "  0.023,\n",
       "  0.023,\n",
       "  0.023,\n",
       "  0.023,\n",
       "  0.023,\n",
       "  0.023,\n",
       "  0.023,\n",
       "  0.023,\n",
       "  0.023,\n",
       "  0.023,\n",
       "  0.023,\n",
       "  0.023,\n",
       "  0.023,\n",
       "  0.023,\n",
       "  0.023,\n",
       "  0.023,\n",
       "  0.023,\n",
       "  0.023,\n",
       "  0.023,\n",
       "  0.023,\n",
       "  0.023,\n",
       "  0.023,\n",
       "  0.023,\n",
       "  0.023,\n",
       "  0.023,\n",
       "  0.023,\n",
       "  0.023,\n",
       "  0.023,\n",
       "  0.023,\n",
       "  0.023,\n",
       "  0.023,\n",
       "  0.023,\n",
       "  0.023,\n",
       "  0.023,\n",
       "  0.023,\n",
       "  0.023,\n",
       "  0.023,\n",
       "  0.023,\n",
       "  0.023,\n",
       "  0.023,\n",
       "  0.023,\n",
       "  0.023,\n",
       "  0.023,\n",
       "  0.023,\n",
       "  0.023,\n",
       "  0.023,\n",
       "  0.023,\n",
       "  0.023,\n",
       "  0.023,\n",
       "  0.023,\n",
       "  0.023,\n",
       "  0.023,\n",
       "  0.023,\n",
       "  0.023,\n",
       "  0.023,\n",
       "  0.023,\n",
       "  0.023,\n",
       "  0.023,\n",
       "  0.023,\n",
       "  0.023,\n",
       "  0.023,\n",
       "  0.023,\n",
       "  0.023,\n",
       "  0.023,\n",
       "  0.023,\n",
       "  0.023,\n",
       "  0.023,\n",
       "  0.023,\n",
       "  0.023,\n",
       "  0.023,\n",
       "  0.023,\n",
       "  0.023,\n",
       "  0.023,\n",
       "  0.023,\n",
       "  0.023])"
      ]
     },
     "execution_count": 18,
     "metadata": {},
     "output_type": "execute_result"
    }
   ],
   "source": [
    "evaluate_ada(alphas,trees, train_data, test_data)"
   ]
  },
  {
   "cell_type": "code",
   "execution_count": null,
   "metadata": {},
   "outputs": [],
   "source": []
  },
  {
   "cell_type": "code",
   "execution_count": null,
   "metadata": {},
   "outputs": [],
   "source": []
  },
  {
   "cell_type": "code",
   "execution_count": null,
   "metadata": {},
   "outputs": [],
   "source": [
    "plt.figure()\n",
    "plt.plot(range(1,1501), training_error, label=\"Training error\")\n",
    "plt.plot(range(1,1501), testing_error, label=\"Testing error\")\n",
    "plt.title(\"Training and Testing error of fboost(t) for t = 1, 2, ... 1500\")\n",
    "plt.legend()\n",
    "plt.show()"
   ]
  },
  {
   "cell_type": "code",
   "execution_count": null,
   "metadata": {},
   "outputs": [],
   "source": []
  },
  {
   "cell_type": "code",
   "execution_count": null,
   "metadata": {},
   "outputs": [],
   "source": []
  },
  {
   "cell_type": "code",
   "execution_count": null,
   "metadata": {},
   "outputs": [],
   "source": []
  },
  {
   "cell_type": "code",
   "execution_count": null,
   "metadata": {},
   "outputs": [],
   "source": [
    "a[1]*h[1]"
   ]
  },
  {
   "cell_type": "code",
   "execution_count": null,
   "metadata": {},
   "outputs": [],
   "source": [
    "np.sign(np.sum(np.array(a)*np.array(h), axis=1))"
   ]
  },
  {
   "cell_type": "code",
   "execution_count": null,
   "metadata": {},
   "outputs": [],
   "source": []
  },
  {
   "cell_type": "code",
   "execution_count": null,
   "metadata": {},
   "outputs": [],
   "source": []
  },
  {
   "cell_type": "code",
   "execution_count": null,
   "metadata": {},
   "outputs": [],
   "source": []
  },
  {
   "cell_type": "code",
   "execution_count": null,
   "metadata": {},
   "outputs": [],
   "source": []
  },
  {
   "cell_type": "code",
   "execution_count": null,
   "metadata": {},
   "outputs": [],
   "source": []
  },
  {
   "cell_type": "code",
   "execution_count": null,
   "metadata": {},
   "outputs": [],
   "source": [
    "N = data.shape[0]\n",
    "\n",
    "D = np.ones(N)/N"
   ]
  },
  {
   "cell_type": "code",
   "execution_count": null,
   "metadata": {},
   "outputs": [],
   "source": [
    "D.shape"
   ]
  },
  {
   "cell_type": "code",
   "execution_count": null,
   "metadata": {},
   "outputs": [],
   "source": [
    "data.shape"
   ]
  },
  {
   "cell_type": "code",
   "execution_count": null,
   "metadata": {},
   "outputs": [],
   "source": [
    "weighted_error(test_tree, data, D)"
   ]
  },
  {
   "cell_type": "code",
   "execution_count": null,
   "metadata": {},
   "outputs": [],
   "source": [
    "a = np.array([0,0,0,0,0,1,1,1])\n",
    "\n",
    "b = np.array([1,2,3,4,5,6,7,8])\n",
    "\n",
    "b[a>0]"
   ]
  },
  {
   "cell_type": "code",
   "execution_count": null,
   "metadata": {},
   "outputs": [],
   "source": [
    "data.iloc[0]"
   ]
  },
  {
   "cell_type": "code",
   "execution_count": null,
   "metadata": {},
   "outputs": [],
   "source": [
    "test_tree"
   ]
  },
  {
   "cell_type": "code",
   "execution_count": null,
   "metadata": {},
   "outputs": [],
   "source": [
    "predict_label(data.iloc[0], test_tree,'y')"
   ]
  },
  {
   "cell_type": "code",
   "execution_count": null,
   "metadata": {},
   "outputs": [],
   "source": [
    "data.head()"
   ]
  },
  {
   "cell_type": "code",
   "execution_count": null,
   "metadata": {},
   "outputs": [],
   "source": []
  },
  {
   "cell_type": "code",
   "execution_count": null,
   "metadata": {},
   "outputs": [],
   "source": [
    "weights = np.array([.2,.05,.05,.05,.2,.2,.05,.05,.05,.1])\n",
    "weights"
   ]
  },
  {
   "cell_type": "code",
   "execution_count": null,
   "metadata": {},
   "outputs": [],
   "source": [
    "labels = np.array([1,0,0,0,1,1,1,0,0,0])"
   ]
  },
  {
   "cell_type": "code",
   "execution_count": null,
   "metadata": {},
   "outputs": [],
   "source": [
    "entropy(labels, weights)"
   ]
  },
  {
   "cell_type": "code",
   "execution_count": null,
   "metadata": {},
   "outputs": [],
   "source": []
  },
  {
   "cell_type": "code",
   "execution_count": null,
   "metadata": {},
   "outputs": [],
   "source": []
  },
  {
   "cell_type": "code",
   "execution_count": null,
   "metadata": {},
   "outputs": [],
   "source": [
    "attrs = list(data.columns.values)[:-1]\n",
    "attrs"
   ]
  },
  {
   "cell_type": "code",
   "execution_count": null,
   "metadata": {},
   "outputs": [],
   "source": [
    "label = list(data.columns.values)[-1]\n",
    "label"
   ]
  },
  {
   "cell_type": "code",
   "execution_count": null,
   "metadata": {},
   "outputs": [],
   "source": []
  },
  {
   "cell_type": "code",
   "execution_count": null,
   "metadata": {},
   "outputs": [],
   "source": []
  },
  {
   "cell_type": "code",
   "execution_count": null,
   "metadata": {},
   "outputs": [],
   "source": []
  },
  {
   "cell_type": "code",
   "execution_count": null,
   "metadata": {},
   "outputs": [],
   "source": [
    "attrs = columns[:-1]\n",
    "label = columns[-1]"
   ]
  },
  {
   "cell_type": "code",
   "execution_count": null,
   "metadata": {},
   "outputs": [],
   "source": [
    "data = train_data"
   ]
  },
  {
   "cell_type": "code",
   "execution_count": null,
   "metadata": {},
   "outputs": [],
   "source": [
    "tree = id3(data, data, attrs, label, gain_method=entropy, parent_label=None, max_depth=2)"
   ]
  },
  {
   "cell_type": "code",
   "execution_count": null,
   "metadata": {},
   "outputs": [],
   "source": []
  },
  {
   "cell_type": "code",
   "execution_count": null,
   "metadata": {},
   "outputs": [],
   "source": []
  },
  {
   "cell_type": "markdown",
   "metadata": {},
   "source": [
    "---\n",
    "\n",
    "### B. Bagged Trees"
   ]
  },
  {
   "cell_type": "markdown",
   "metadata": {},
   "source": [
    "[8 points] Based on your code of the decision tree learning algorithm (with information gain), implement a Bagged trees learning algorithm. Note that each tree\n",
    "should be fully expanded — no early stopping or post pruning. Vary the number\n",
    "of trees from 1 to 1000, report how the training and test errors vary along with\n",
    "the tree number in a figure. Overall, are bagged trees better than a single tree?\n",
    "Are bagged trees better than Adaboost?\n"
   ]
  },
  {
   "cell_type": "code",
   "execution_count": null,
   "metadata": {},
   "outputs": [],
   "source": []
  },
  {
   "cell_type": "code",
   "execution_count": null,
   "metadata": {},
   "outputs": [],
   "source": []
  },
  {
   "cell_type": "code",
   "execution_count": null,
   "metadata": {},
   "outputs": [],
   "source": []
  },
  {
   "cell_type": "code",
   "execution_count": null,
   "metadata": {},
   "outputs": [],
   "source": []
  },
  {
   "cell_type": "markdown",
   "metadata": {
    "toc-hr-collapsed": false
   },
   "source": [
    "---\n",
    "\n",
    "### C. Optimal weight vector with analytical form"
   ]
  },
  {
   "cell_type": "markdown",
   "metadata": {},
   "source": [
    "Through the bias and variance decomposition, we have justified why\n",
    "the bagging approach is more effective than a single classifier/predictor. Let us\n",
    "verify it in real data. Experiment with the following procedure.\n",
    "\n",
    "• REPEAT for 100 times\n",
    "\n",
    "• [STEP 1] Sample 1, 000 examples uniformly without replacement from the training datset\n",
    "\n",
    "• [STEP 2] Run your bagged trees learning algorithm based on the 1, 000 training examples and learn 1000 trees.\n",
    "\n",
    "• END REPEAT\n",
    "\n",
    "\n",
    "• Now you have 100 bagged predictors in hand. For comparison, pick the first\n",
    "tree in each run to get 100 fully expanded trees (i.e. single trees).\n",
    "\n",
    "\n",
    "• For each of the test example, compute the predictions of the 100 single trees.\n",
    "Take the average, subtract the ground-truth label, and take square to compute\n",
    "the bias term (see the lecture slides). Use all the predictions to compute the\n",
    "sample variance as the approximation to the variance term (if you forget\n",
    "what the sample variance is, check it out here). You now obtain the bias and\n",
    "variance terms of a single tree learner for one test example. You will need\n",
    "to compute them for all the test examples and then take average as your\n",
    "final estimation of the bias and variance terms for the single decision tree\n",
    "learner. You can add the two terms to obtain the estimation of the general\n",
    "squared error (that is, expected error w.r.t test examples). Now use your 100\n",
    "bagged predictors to do the same thing and estimate the general bias and\n",
    "variance terms, as well as the general squared error. Comparing the results\n",
    "of the single tree learner and the bagged trees, what can you conclude? What\n",
    "causes the difference?\n"
   ]
  },
  {
   "cell_type": "code",
   "execution_count": null,
   "metadata": {},
   "outputs": [],
   "source": []
  },
  {
   "cell_type": "code",
   "execution_count": null,
   "metadata": {},
   "outputs": [],
   "source": []
  },
  {
   "cell_type": "code",
   "execution_count": null,
   "metadata": {},
   "outputs": [],
   "source": []
  },
  {
   "cell_type": "code",
   "execution_count": null,
   "metadata": {},
   "outputs": [],
   "source": []
  },
  {
   "cell_type": "markdown",
   "metadata": {
    "toc-hr-collapsed": false
   },
   "source": [
    "---\n",
    "\n",
    "### D. Random Forest"
   ]
  },
  {
   "cell_type": "markdown",
   "metadata": {},
   "source": [
    " [8 points] Implement the random forest algorithm as we discussed in our lecture.\n",
    "Vary the number of random trees from 1 to 1000. Note that you need to modify\n",
    "your tree learning algorithm to randomly select a subset of features before each\n",
    "split. Then use the information gain to select the best feature to split. Vary the\n",
    "size of the feature subset from {2, 4, 6}. Note that if your feature subset happen\n",
    "to be all the features used before, simply resample the subset. Report in a figure\n",
    "how the training and test errors vary along with the number of random trees for\n",
    "each feature subset size setting. How does the performance compare with bagged\n",
    "trees?"
   ]
  },
  {
   "cell_type": "code",
   "execution_count": null,
   "metadata": {},
   "outputs": [],
   "source": []
  },
  {
   "cell_type": "code",
   "execution_count": null,
   "metadata": {},
   "outputs": [],
   "source": []
  },
  {
   "cell_type": "markdown",
   "metadata": {
    "toc-hr-collapsed": false
   },
   "source": [
    "---\n",
    "\n",
    "### E. Single random tree vs whole forest"
   ]
  },
  {
   "cell_type": "markdown",
   "metadata": {},
   "source": [
    "[6 points] Following (c), estimate the bias and variance terms, and the squared\n",
    "error for a single random tree and the whole forest. Comparing with the bagged\n",
    "trees, what do you observe? What can you conclude?"
   ]
  },
  {
   "cell_type": "code",
   "execution_count": null,
   "metadata": {},
   "outputs": [],
   "source": []
  },
  {
   "cell_type": "code",
   "execution_count": null,
   "metadata": {},
   "outputs": [],
   "source": []
  },
  {
   "cell_type": "code",
   "execution_count": null,
   "metadata": {},
   "outputs": [],
   "source": []
  },
  {
   "cell_type": "code",
   "execution_count": null,
   "metadata": {},
   "outputs": [],
   "source": []
  },
  {
   "cell_type": "code",
   "execution_count": null,
   "metadata": {},
   "outputs": [],
   "source": []
  },
  {
   "cell_type": "code",
   "execution_count": null,
   "metadata": {},
   "outputs": [],
   "source": []
  },
  {
   "cell_type": "code",
   "execution_count": null,
   "metadata": {},
   "outputs": [],
   "source": []
  },
  {
   "cell_type": "code",
   "execution_count": null,
   "metadata": {},
   "outputs": [],
   "source": []
  },
  {
   "cell_type": "code",
   "execution_count": 27,
   "metadata": {},
   "outputs": [],
   "source": [
    "test_tree = {'duration': {False: {'month': {'apr': 'no',\n",
    "    'aug': 'no',\n",
    "    'dec': 'no',\n",
    "    'feb': 'no',\n",
    "    'jan': 'no',\n",
    "    'jul': 'no',\n",
    "    'jun': 'no',\n",
    "    'mar': 'no',\n",
    "    'may': 'no',\n",
    "    'nov': 'no',\n",
    "    'oct': 'no',\n",
    "    'sep': 'no'}},\n",
    "  True: {'poutcome': {'failure': 'no',\n",
    "    'other': 'no',\n",
    "    'success': 'yes',\n",
    "    'unknown': 'no'}}}}"
   ]
  },
  {
   "cell_type": "code",
   "execution_count": null,
   "metadata": {},
   "outputs": [],
   "source": []
  }
 ],
 "metadata": {
  "kernelspec": {
   "display_name": "Python 3",
   "language": "python",
   "name": "python3"
  },
  "language_info": {
   "codemirror_mode": {
    "name": "ipython",
    "version": 3
   },
   "file_extension": ".py",
   "mimetype": "text/x-python",
   "name": "python",
   "nbconvert_exporter": "python",
   "pygments_lexer": "ipython3",
   "version": "3.6.6"
  }
 },
 "nbformat": 4,
 "nbformat_minor": 2
}
